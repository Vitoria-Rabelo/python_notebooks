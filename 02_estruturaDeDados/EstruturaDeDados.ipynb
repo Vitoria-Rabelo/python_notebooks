{
 "cells": [
  {
   "cell_type": "markdown",
   "id": "be244881",
   "metadata": {},
   "source": [
    "String , Listas e Contatenacao"
   ]
  },
  {
   "cell_type": "code",
   "execution_count": 1,
   "id": "06084522",
   "metadata": {},
   "outputs": [
    {
     "name": "stdout",
     "output_type": "stream",
     "text": [
      "[1, 2, 3, 4, 5, 6, 7, 8, 9, 10]\n"
     ]
    }
   ],
   "source": [
    "lista = [1, 2, 3, 4, 5, 6, 7, 8, 9, 10]\n",
    "print(lista)"
   ]
  },
  {
   "cell_type": "code",
   "execution_count": 2,
   "id": "44fd40c4",
   "metadata": {},
   "outputs": [
    {
     "data": {
      "text/plain": [
       "list"
      ]
     },
     "execution_count": 2,
     "metadata": {},
     "output_type": "execute_result"
    }
   ],
   "source": [
    "type(lista)\n"
   ]
  },
  {
   "cell_type": "code",
   "execution_count": 4,
   "id": "599923f2",
   "metadata": {},
   "outputs": [
    {
     "name": "stdout",
     "output_type": "stream",
     "text": [
      "['uva', ' maçã', 'melancia']\n"
     ]
    }
   ],
   "source": [
    "lista2 = [\"uva\", \" maçã\", \"melancia\"]\n",
    "print(lista2)"
   ]
  },
  {
   "cell_type": "code",
   "execution_count": 5,
   "id": "554d5c2b",
   "metadata": {},
   "outputs": [
    {
     "name": "stdout",
     "output_type": "stream",
     "text": [
      "Olá Vitória!\n"
     ]
    }
   ],
   "source": [
    "stringexemplo = \"Olá\"\n",
    "stringnome = \"Vitória!\"\n",
    "stringfinal = stringexemplo + \" \" + stringnome\n",
    "print(stringfinal)"
   ]
  }
 ],
 "metadata": {
  "kernelspec": {
   "display_name": "Python 3 (ipykernel)",
   "language": "python",
   "name": "python3"
  },
  "language_info": {
   "codemirror_mode": {
    "name": "ipython",
    "version": 3
   },
   "file_extension": ".py",
   "mimetype": "text/x-python",
   "name": "python",
   "nbconvert_exporter": "python",
   "pygments_lexer": "ipython3",
   "version": "3.9.13"
  }
 },
 "nbformat": 4,
 "nbformat_minor": 5
}
