{
 "cells": [
  {
   "cell_type": "code",
   "execution_count": 3,
   "id": "049c86af",
   "metadata": {},
   "outputs": [
    {
     "data": {
      "text/plain": [
       "3"
      ]
     },
     "execution_count": 3,
     "metadata": {},
     "output_type": "execute_result"
    }
   ],
   "source": [
    "tupla = (1, 2 , 2, 2, 3)\n",
    "tupla.count(2)"
   ]
  },
  {
   "cell_type": "markdown",
   "id": "ccec51dd",
   "metadata": {},
   "source": [
    "tupla serve para nao ser alterada, por isso tem limitacoes caso queira mudar transforme-a em lista, altere e depois em tupla denovo"
   ]
  },
  {
   "cell_type": "code",
   "execution_count": 4,
   "id": "fdd868cc",
   "metadata": {},
   "outputs": [],
   "source": [
    "dicionario = {}"
   ]
  },
  {
   "cell_type": "code",
   "execution_count": 5,
   "id": "52a4c1ad",
   "metadata": {},
   "outputs": [
    {
     "name": "stdout",
     "output_type": "stream",
     "text": [
      "{}\n"
     ]
    }
   ],
   "source": [
    "print(dicionario)"
   ]
  },
  {
   "cell_type": "code",
   "execution_count": 6,
   "id": "b2fb9160",
   "metadata": {},
   "outputs": [],
   "source": [
    "dicionario = {'key1': 'valor1', 'key2': 'valor2'}"
   ]
  },
  {
   "cell_type": "markdown",
   "id": "fb968aa7",
   "metadata": {},
   "source": [
    "dicionarios possuem seus valores atrelados a chaves formando par"
   ]
  },
  {
   "cell_type": "markdown",
   "id": "30ed0688",
   "metadata": {},
   "source": [
    "listas podem ser valores do dicionario"
   ]
  },
  {
   "cell_type": "code",
   "execution_count": 8,
   "id": "450b73bc",
   "metadata": {},
   "outputs": [
    {
     "name": "stdout",
     "output_type": "stream",
     "text": [
      "{'key': [1, 2, 3]}\n"
     ]
    }
   ],
   "source": [
    "dicionario2 = {'key': [1, 2, 3]}\n",
    "print(dicionario2)"
   ]
  },
  {
   "cell_type": "code",
   "execution_count": 12,
   "id": "f5692d82",
   "metadata": {},
   "outputs": [
    {
     "name": "stdout",
     "output_type": "stream",
     "text": [
      "['String1', (90, 92), {'k1': 'v1', 'k2': 'v2'}, 99.98]\n"
     ]
    }
   ],
   "source": [
    "list = ['String1', (90, 92), {'k1':'v1', 'k2':'v2'}, 99.98]\n",
    "print(list)"
   ]
  },
  {
   "cell_type": "markdown",
   "id": "ea6fb81f",
   "metadata": {},
   "source": [
    "Imprimindo apenas os caracteres da posição 1 a 18.\n"
   ]
  },
  {
   "cell_type": "code",
   "execution_count": 14,
   "id": "05bf598f",
   "metadata": {},
   "outputs": [
    {
     "data": {
      "text/plain": [
       "'My name is Vitoria'"
      ]
     },
     "execution_count": 14,
     "metadata": {},
     "output_type": "execute_result"
    }
   ],
   "source": [
    "frase = 'My name is Vitoria Rabelo'\n",
    "frase[0:18]"
   ]
  },
  {
   "cell_type": "code",
   "execution_count": null,
   "id": "fcc72dd9",
   "metadata": {},
   "outputs": [],
   "source": []
  }
 ],
 "metadata": {
  "kernelspec": {
   "display_name": "Python 3 (ipykernel)",
   "language": "python",
   "name": "python3"
  },
  "language_info": {
   "codemirror_mode": {
    "name": "ipython",
    "version": 3
   },
   "file_extension": ".py",
   "mimetype": "text/x-python",
   "name": "python",
   "nbconvert_exporter": "python",
   "pygments_lexer": "ipython3",
   "version": "3.9.13"
  }
 },
 "nbformat": 4,
 "nbformat_minor": 5
}
