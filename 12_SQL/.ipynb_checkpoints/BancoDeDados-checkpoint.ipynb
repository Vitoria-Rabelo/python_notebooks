{
 "cells": [
  {
   "cell_type": "code",
   "execution_count": 21,
   "id": "7a5b4e3f",
   "metadata": {},
   "outputs": [],
   "source": [
    "import sqlite3"
   ]
  },
  {
   "cell_type": "code",
   "execution_count": 22,
   "id": "605e8e25",
   "metadata": {},
   "outputs": [],
   "source": [
    "import pandas as pd"
   ]
  },
  {
   "cell_type": "markdown",
   "id": "01b18039",
   "metadata": {},
   "source": [
    "# Conectando Banco De Dados com Python"
   ]
  },
  {
   "cell_type": "code",
   "execution_count": 23,
   "id": "795e29e1",
   "metadata": {},
   "outputs": [],
   "source": [
    "con = sqlite3.connect('cap12_dsa.db')"
   ]
  },
  {
   "cell_type": "code",
   "execution_count": 24,
   "id": "05d01ddc",
   "metadata": {},
   "outputs": [],
   "source": [
    "#Abrindo um cursor para percorrer o banco de dados, ele será um objeto do tipo connect"
   ]
  },
  {
   "cell_type": "code",
   "execution_count": 25,
   "id": "c430f497",
   "metadata": {},
   "outputs": [],
   "source": [
    "cursor = con.cursor()"
   ]
  },
  {
   "cell_type": "code",
   "execution_count": 26,
   "id": "dbec9090",
   "metadata": {},
   "outputs": [],
   "source": [
    "#Query (consulta) SQL para extrair os nomes das colunas no BD\n",
    "sql_query = \"\"\"SELECT name FROM sqlite_master WHERE type = 'table';\"\"\"\n",
    "#name é uma coluna e um metadado (dado sobre os dados)"
   ]
  },
  {
   "cell_type": "code",
   "execution_count": 27,
   "id": "490d3a3f",
   "metadata": {},
   "outputs": [
    {
     "data": {
      "text/plain": [
       "<sqlite3.Cursor at 0x12618a640>"
      ]
     },
     "execution_count": 27,
     "metadata": {},
     "output_type": "execute_result"
    }
   ],
   "source": [
    "#Executando a Query\n",
    "cursor.execute(sql_query)"
   ]
  },
  {
   "cell_type": "code",
   "execution_count": 28,
   "id": "ebc7fb6f",
   "metadata": {},
   "outputs": [
    {
     "name": "stdout",
     "output_type": "stream",
     "text": [
      "[('tb_vendas_dsa',)]\n"
     ]
    }
   ],
   "source": [
    "#Visualizando\n",
    "print(cursor.fetchall())"
   ]
  },
  {
   "cell_type": "markdown",
   "id": "dfa5113c",
   "metadata": {},
   "source": [
    "## Criando Instrucoes SQL"
   ]
  },
  {
   "cell_type": "code",
   "execution_count": 29,
   "id": "b3ca098d",
   "metadata": {},
   "outputs": [],
   "source": [
    "#Selecione tudo da tabela\n",
    "query1 = 'SELECT * FROM tb_vendas_dsa'"
   ]
  },
  {
   "cell_type": "code",
   "execution_count": 30,
   "id": "dc5ee992",
   "metadata": {},
   "outputs": [
    {
     "data": {
      "text/plain": [
       "<sqlite3.Cursor at 0x12618a640>"
      ]
     },
     "execution_count": 30,
     "metadata": {},
     "output_type": "execute_result"
    }
   ],
   "source": [
    "cursor.execute(query1)"
   ]
  },
  {
   "cell_type": "code",
   "execution_count": 32,
   "id": "63e373c0",
   "metadata": {},
   "outputs": [],
   "source": [
    "# List compreension para visualizar os nomes das colunas\n",
    "nomes_colunas = [description[0] for description in cursor.description]"
   ]
  },
  {
   "cell_type": "code",
   "execution_count": 33,
   "id": "7c22aabe",
   "metadata": {},
   "outputs": [
    {
     "name": "stdout",
     "output_type": "stream",
     "text": [
      "['ID_Pedido', 'ID_Cliente', 'Nome_Produto', 'Valor_Unitario', 'Unidades_Vendidas', 'Custo']\n"
     ]
    }
   ],
   "source": [
    "print(nomes_colunas)"
   ]
  },
  {
   "cell_type": "code",
   "execution_count": 36,
   "id": "ca5959c0",
   "metadata": {},
   "outputs": [],
   "source": [
    "#Retorna os dados da execução da query\n",
    "dados = cursor.fetchall()"
   ]
  },
  {
   "cell_type": "code",
   "execution_count": 37,
   "id": "ee325327",
   "metadata": {},
   "outputs": [
    {
     "data": {
      "text/plain": [
       "[]"
      ]
     },
     "execution_count": 37,
     "metadata": {},
     "output_type": "execute_result"
    }
   ],
   "source": [
    "dados"
   ]
  },
  {
   "cell_type": "code",
   "execution_count": null,
   "id": "abc49437",
   "metadata": {},
   "outputs": [],
   "source": []
  }
 ],
 "metadata": {
  "kernelspec": {
   "display_name": "Python 3 (ipykernel)",
   "language": "python",
   "name": "python3"
  },
  "language_info": {
   "codemirror_mode": {
    "name": "ipython",
    "version": 3
   },
   "file_extension": ".py",
   "mimetype": "text/x-python",
   "name": "python",
   "nbconvert_exporter": "python",
   "pygments_lexer": "ipython3",
   "version": "3.10.9"
  }
 },
 "nbformat": 4,
 "nbformat_minor": 5
}
