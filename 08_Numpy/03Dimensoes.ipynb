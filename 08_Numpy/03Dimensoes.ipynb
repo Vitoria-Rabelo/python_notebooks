{
 "cells": [
  {
   "cell_type": "code",
   "execution_count": 3,
   "id": "08d741e4",
   "metadata": {},
   "outputs": [],
   "source": [
    "#Manipulando objetos de 3 e 4 dimensões\n",
    "import numpy\n",
    "#criando um array com 3 dimensões:\n",
    "arr = numpy.array([\n",
    "        [\n",
    "            [1, 2, 3],\n",
    "            [4, 5 , 6],\n",
    "            [7, 8, 9]\n",
    "        ], [\n",
    "            [10, 11, 12],\n",
    "            [13, 14, 15], \n",
    "            [16, 17, 18]\n",
    "        ]\n",
    "    ])"
   ]
  },
  {
   "cell_type": "code",
   "execution_count": 4,
   "id": "ec14a490",
   "metadata": {},
   "outputs": [
    {
     "name": "stdout",
     "output_type": "stream",
     "text": [
      "[[[ 1  2  3]\n",
      "  [ 4  5  6]\n",
      "  [ 7  8  9]]\n",
      "\n",
      " [[10 11 12]\n",
      "  [13 14 15]\n",
      "  [16 17 18]]]\n"
     ]
    }
   ],
   "source": [
    "print(arr)"
   ]
  },
  {
   "cell_type": "code",
   "execution_count": 5,
   "id": "e60e963d",
   "metadata": {},
   "outputs": [
    {
     "data": {
      "text/plain": [
       "18"
      ]
     },
     "execution_count": 5,
     "metadata": {},
     "output_type": "execute_result"
    }
   ],
   "source": [
    "arr.size"
   ]
  },
  {
   "cell_type": "code",
   "execution_count": 7,
   "id": "0ec4f53b",
   "metadata": {},
   "outputs": [
    {
     "data": {
      "text/plain": [
       "(2, 3, 3)"
      ]
     },
     "execution_count": 7,
     "metadata": {},
     "output_type": "execute_result"
    }
   ],
   "source": [
    "#qntd de elementos, linhas e colunas\n",
    "arr.shape"
   ]
  },
  {
   "cell_type": "code",
   "execution_count": 12,
   "id": "26be6c30",
   "metadata": {},
   "outputs": [
    {
     "name": "stdout",
     "output_type": "stream",
     "text": [
      "9\n"
     ]
    }
   ],
   "source": [
    "print(arr[0,2,2])"
   ]
  },
  {
   "cell_type": "code",
   "execution_count": null,
   "id": "4da30d5b",
   "metadata": {},
   "outputs": [],
   "source": []
  }
 ],
 "metadata": {
  "kernelspec": {
   "display_name": "Python 3 (ipykernel)",
   "language": "python",
   "name": "python3"
  },
  "language_info": {
   "codemirror_mode": {
    "name": "ipython",
    "version": 3
   },
   "file_extension": ".py",
   "mimetype": "text/x-python",
   "name": "python",
   "nbconvert_exporter": "python",
   "pygments_lexer": "ipython3",
   "version": "3.10.9"
  }
 },
 "nbformat": 4,
 "nbformat_minor": 5
}
