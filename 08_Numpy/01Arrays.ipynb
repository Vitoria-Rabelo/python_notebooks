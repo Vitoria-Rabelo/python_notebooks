{
 "cells": [
  {
   "cell_type": "code",
   "execution_count": 1,
   "id": "494dd464",
   "metadata": {},
   "outputs": [],
   "source": [
    "#Tudo em Ciências de Dados e IA são matrizes."
   ]
  },
  {
   "cell_type": "code",
   "execution_count": 1,
   "id": "53ba2366",
   "metadata": {},
   "outputs": [],
   "source": [
    "#importando a biblioteca Numpy com um nome np para facilitar o código\n",
    "import numpy as np"
   ]
  },
  {
   "cell_type": "markdown",
   "id": "6ce48df6",
   "metadata": {},
   "source": [
    "# Criando Arrays apartir de Lista"
   ]
  },
  {
   "cell_type": "code",
   "execution_count": 12,
   "id": "d4507ca1",
   "metadata": {},
   "outputs": [],
   "source": [
    "arr1 = np.array([10, 20, 42, 56, 88, 15])"
   ]
  },
  {
   "cell_type": "code",
   "execution_count": 13,
   "id": "1269f29e",
   "metadata": {},
   "outputs": [
    {
     "name": "stdout",
     "output_type": "stream",
     "text": [
      "[10 20 42 56 88 15]\n"
     ]
    }
   ],
   "source": [
    "print(arr1)"
   ]
  },
  {
   "cell_type": "markdown",
   "id": "3ca98e29",
   "metadata": {},
   "source": [
    "Um array pode ter n dimensões\n",
    "\n",
    "1 dimensão = vetor\n",
    "\n",
    "2 dimensões = matrizes\n",
    "\n",
    "3 dimensões = largura + profundidade + largura\n",
    "\n",
    "..."
   ]
  },
  {
   "cell_type": "markdown",
   "id": "fa9e05bd",
   "metadata": {},
   "source": [
    "# Indexação"
   ]
  },
  {
   "cell_type": "code",
   "execution_count": 14,
   "id": "b2ac2658",
   "metadata": {},
   "outputs": [
    {
     "name": "stdout",
     "output_type": "stream",
     "text": [
      "88\n"
     ]
    }
   ],
   "source": [
    "#imprimindo valor do índice 4:\n",
    "print(arr1[4])"
   ]
  },
  {
   "cell_type": "code",
   "execution_count": 15,
   "id": "c70f4055",
   "metadata": {},
   "outputs": [
    {
     "name": "stdout",
     "output_type": "stream",
     "text": [
      "[20 42 56]\n"
     ]
    }
   ],
   "source": [
    "#iniciando do 1 e excluindo o 4\n",
    "print(arr1[1:4])"
   ]
  },
  {
   "cell_type": "code",
   "execution_count": 16,
   "id": "3f408f7b",
   "metadata": {},
   "outputs": [],
   "source": [
    "indices = [0, 2, 4]"
   ]
  },
  {
   "cell_type": "code",
   "execution_count": 17,
   "id": "6c9e1c20",
   "metadata": {},
   "outputs": [
    {
     "name": "stdout",
     "output_type": "stream",
     "text": [
      "[10 42 88]\n"
     ]
    }
   ],
   "source": [
    "print(arr1[indices])"
   ]
  },
  {
   "cell_type": "code",
   "execution_count": 18,
   "id": "230fed80",
   "metadata": {},
   "outputs": [],
   "source": [
    "#Máscara booleana que só retorna os pares\n",
    "mask = (arr1 % 2 == 0)"
   ]
  },
  {
   "cell_type": "code",
   "execution_count": 19,
   "id": "8fe6c1bf",
   "metadata": {},
   "outputs": [
    {
     "name": "stdout",
     "output_type": "stream",
     "text": [
      "[10 20 42 56 88]\n"
     ]
    }
   ],
   "source": [
    "print(arr1[mask])"
   ]
  },
  {
   "cell_type": "code",
   "execution_count": 20,
   "id": "636434b7",
   "metadata": {},
   "outputs": [
    {
     "data": {
      "text/plain": [
       "array([ True,  True,  True,  True,  True, False])"
      ]
     },
     "execution_count": 20,
     "metadata": {},
     "output_type": "execute_result"
    }
   ],
   "source": [
    "mask"
   ]
  },
  {
   "cell_type": "code",
   "execution_count": 21,
   "id": "08e92514",
   "metadata": {},
   "outputs": [
    {
     "name": "stdout",
     "output_type": "stream",
     "text": [
      "[10 20 42 56 88 16]\n"
     ]
    }
   ],
   "source": [
    "#Substituindo valores\n",
    "arr1[5] = 16\n",
    "print(arr1)"
   ]
  },
  {
   "cell_type": "markdown",
   "id": "f51ddcbe",
   "metadata": {},
   "source": [
    "# Funções"
   ]
  },
  {
   "cell_type": "code",
   "execution_count": 22,
   "id": "e243cbc9",
   "metadata": {},
   "outputs": [],
   "source": [
    "arr2 = np.array([1, 2, 3, 4, 5])"
   ]
  },
  {
   "cell_type": "code",
   "execution_count": 23,
   "id": "2bb663ef",
   "metadata": {},
   "outputs": [
    {
     "data": {
      "text/plain": [
       "numpy.ndarray"
      ]
     },
     "execution_count": 23,
     "metadata": {},
     "output_type": "execute_result"
    }
   ],
   "source": [
    "#verificando tipo do objeto\n",
    "type(arr2)"
   ]
  },
  {
   "cell_type": "markdown",
   "id": "81e437cf",
   "metadata": {},
   "source": [
    "digite o nome do objeto + \".\" e aperte a tecla tab para vizualizar os métodos disponíveis"
   ]
  },
  {
   "cell_type": "code",
   "execution_count": 24,
   "id": "310d1701",
   "metadata": {},
   "outputs": [],
   "source": [
    "#A função arange cria um array NumPy contendo uma progressão aritmética a partir de um intervalo - start, stop, step"
   ]
  },
  {
   "cell_type": "code",
   "execution_count": 26,
   "id": "bf4334a4",
   "metadata": {},
   "outputs": [],
   "source": [
    "arr3 = np.arange(0, 50, 5)"
   ]
  },
  {
   "cell_type": "code",
   "execution_count": 27,
   "id": "af1e55e6",
   "metadata": {},
   "outputs": [
    {
     "name": "stdout",
     "output_type": "stream",
     "text": [
      "[ 0  5 10 15 20 25 30 35 40 45]\n"
     ]
    }
   ],
   "source": [
    "#veja que 50 não entra pois o último \n",
    "print(arr3)"
   ]
  },
  {
   "cell_type": "code",
   "execution_count": 2,
   "id": "2b552d09",
   "metadata": {},
   "outputs": [],
   "source": [
    "#criando um array preenchido por zeros em x posicoes\n",
    "arr4 = np.zeros(4)"
   ]
  },
  {
   "cell_type": "code",
   "execution_count": 3,
   "id": "58b31fe6",
   "metadata": {},
   "outputs": [
    {
     "name": "stdout",
     "output_type": "stream",
     "text": [
      "[0. 0. 0. 0.]\n"
     ]
    }
   ],
   "source": [
    "print(arr4)"
   ]
  },
  {
   "cell_type": "code",
   "execution_count": 7,
   "id": "4a20042a",
   "metadata": {},
   "outputs": [
    {
     "name": "stdout",
     "output_type": "stream",
     "text": [
      "[[1. 0. 0.]\n",
      " [0. 1. 0.]\n",
      " [0. 0. 1.]]\n"
     ]
    }
   ],
   "source": [
    "#retornando 1 na diagonal e 0 no resto da matriz\n",
    "arr5 = np.eye(3)\n",
    "print(arr5)"
   ]
  },
  {
   "cell_type": "code",
   "execution_count": 11,
   "id": "85e9c0cc",
   "metadata": {},
   "outputs": [
    {
     "name": "stdout",
     "output_type": "stream",
     "text": [
      "[[1 0 0 0]\n",
      " [0 2 0 0]\n",
      " [0 0 3 0]\n",
      " [0 0 0 4]]\n"
     ]
    }
   ],
   "source": [
    "#passando valores para preencher diagonalmente\n",
    "arr6 = np.diag(np.array([1, 2, 3, 4]))\n",
    "print(arr6)"
   ]
  },
  {
   "cell_type": "code",
   "execution_count": 12,
   "id": "ca36a959",
   "metadata": {},
   "outputs": [],
   "source": [
    "#Array de valores booleanos\n",
    "arr7 = [True, False, True, True]"
   ]
  },
  {
   "cell_type": "markdown",
   "id": "5d3e4107",
   "metadata": {},
   "source": [
    "O método linspace (linearly spaced vector) retorna um número de valores igualmente \n",
    "distribuídos no intervalo especificado."
   ]
  },
  {
   "cell_type": "code",
   "execution_count": 13,
   "id": "97bc9b8d",
   "metadata": {},
   "outputs": [
    {
     "name": "stdout",
     "output_type": "stream",
     "text": [
      "[ 0.          0.20408163  0.40816327  0.6122449   0.81632653  1.02040816\n",
      "  1.2244898   1.42857143  1.63265306  1.83673469  2.04081633  2.24489796\n",
      "  2.44897959  2.65306122  2.85714286  3.06122449  3.26530612  3.46938776\n",
      "  3.67346939  3.87755102  4.08163265  4.28571429  4.48979592  4.69387755\n",
      "  4.89795918  5.10204082  5.30612245  5.51020408  5.71428571  5.91836735\n",
      "  6.12244898  6.32653061  6.53061224  6.73469388  6.93877551  7.14285714\n",
      "  7.34693878  7.55102041  7.75510204  7.95918367  8.16326531  8.36734694\n",
      "  8.57142857  8.7755102   8.97959184  9.18367347  9.3877551   9.59183673\n",
      "  9.79591837 10.        ]\n"
     ]
    }
   ],
   "source": [
    "print(np.linspace(0, 10))"
   ]
  },
  {
   "cell_type": "code",
   "execution_count": 14,
   "id": "bec0df9b",
   "metadata": {},
   "outputs": [
    {
     "name": "stdout",
     "output_type": "stream",
     "text": [
      "[ 0.          0.71428571  1.42857143  2.14285714  2.85714286  3.57142857\n",
      "  4.28571429  5.          5.71428571  6.42857143  7.14285714  7.85714286\n",
      "  8.57142857  9.28571429 10.        ]\n"
     ]
    }
   ],
   "source": [
    "print(np.linspace(0, 10, 15))"
   ]
  },
  {
   "cell_type": "markdown",
   "id": "9e0c7482",
   "metadata": {},
   "source": [
    "A função logspace do NumPy é usada para criar uma sequência de números igualmente espaçados em escala logarítmica dentro de um intervalo especificado. Essa função é amplamente utilizada em programação científica e matemática para gerar arrays de números para diversos fins, como gráficos,\n",
    "cálculos e simulações."
   ]
  },
  {
   "cell_type": "code",
   "execution_count": null,
   "id": "76bf74c3",
   "metadata": {},
   "outputs": [],
   "source": [
    "p"
   ]
  }
 ],
 "metadata": {
  "kernelspec": {
   "display_name": "Python 3 (ipykernel)",
   "language": "python",
   "name": "python3"
  },
  "language_info": {
   "codemirror_mode": {
    "name": "ipython",
    "version": 3
   },
   "file_extension": ".py",
   "mimetype": "text/x-python",
   "name": "python",
   "nbconvert_exporter": "python",
   "pygments_lexer": "ipython3",
   "version": "3.10.9"
  }
 },
 "nbformat": 4,
 "nbformat_minor": 5
}
