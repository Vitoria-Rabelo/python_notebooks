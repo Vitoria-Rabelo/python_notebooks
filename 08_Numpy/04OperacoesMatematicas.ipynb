{
 "cells": [
  {
   "cell_type": "code",
   "execution_count": 1,
   "id": "446555d0",
   "metadata": {},
   "outputs": [],
   "source": [
    "import numpy as np"
   ]
  },
  {
   "cell_type": "code",
   "execution_count": 5,
   "id": "80668468",
   "metadata": {},
   "outputs": [],
   "source": [
    "arr = np.arange(1,10)"
   ]
  },
  {
   "cell_type": "code",
   "execution_count": 6,
   "id": "4cd73afc",
   "metadata": {},
   "outputs": [
    {
     "name": "stdout",
     "output_type": "stream",
     "text": [
      "[1 2 3 4 5 6 7 8 9]\n"
     ]
    }
   ],
   "source": [
    "print(arr)"
   ]
  },
  {
   "cell_type": "code",
   "execution_count": 8,
   "id": "80fa384a",
   "metadata": {},
   "outputs": [
    {
     "name": "stdout",
     "output_type": "stream",
     "text": [
      "45\n"
     ]
    }
   ],
   "source": [
    "#Soma\n",
    "np.sum(arr)\n",
    "print(np.sum(arr))"
   ]
  },
  {
   "cell_type": "code",
   "execution_count": 9,
   "id": "5fbfffb2",
   "metadata": {},
   "outputs": [
    {
     "name": "stdout",
     "output_type": "stream",
     "text": [
      "362880\n"
     ]
    }
   ],
   "source": [
    "#Multiplicao\n",
    "np.prod(arr)\n",
    "print(np.prod(arr))"
   ]
  },
  {
   "cell_type": "code",
   "execution_count": 10,
   "id": "1396f48d",
   "metadata": {},
   "outputs": [
    {
     "data": {
      "text/plain": [
       "array([ 1,  3,  6, 10, 15, 21, 28, 36, 45])"
      ]
     },
     "execution_count": 10,
     "metadata": {},
     "output_type": "execute_result"
    }
   ],
   "source": [
    "#Acumula a soma dos elementos\n",
    "np.cumsum(arr)"
   ]
  },
  {
   "cell_type": "code",
   "execution_count": 11,
   "id": "baff2eae",
   "metadata": {},
   "outputs": [],
   "source": [
    "arr2 = np.array([1, 2, 3])\n",
    "arr3 = np.array([40 , 10, 30])"
   ]
  },
  {
   "cell_type": "code",
   "execution_count": 16,
   "id": "f74346f3",
   "metadata": {},
   "outputs": [
    {
     "name": "stdout",
     "output_type": "stream",
     "text": [
      "[41 12 33]\n"
     ]
    }
   ],
   "source": [
    "#Somando Arrays\n",
    "arr4 = np.add(arr2,arr3)\n",
    "print(arr4)"
   ]
  },
  {
   "cell_type": "markdown",
   "id": "3f5c683a",
   "metadata": {},
   "source": [
    "Para multiplicar duas matrizes NumPy, podemos usar a função dot ou o operador @. Ambos os métodos executam a multiplicação matricial. É importante lembrar que, para que a multiplicação de matrizes possa ser executada, o número de colunas da primeira matriz deve ser igual ao número de linhas da segunda matriz.\n",
    "Há várias formas de multiplicar elementos de matrizes NumPy. A função dot é um método bastante utilizado."
   ]
  },
  {
   "cell_type": "code",
   "execution_count": 20,
   "id": "bde78587",
   "metadata": {},
   "outputs": [
    {
     "name": "stdout",
     "output_type": "stream",
     "text": [
      "[[1 2]\n",
      " [1 2]]\n",
      "[[3 4]\n",
      " [5 6]]\n"
     ]
    }
   ],
   "source": [
    "matriz1 = np.array([[1, 2],[1, 2]])\n",
    "matriz2 = np.array([[3, 4], [5, 6]])\n",
    "print(matriz1)\n",
    "print(matriz2)"
   ]
  },
  {
   "cell_type": "code",
   "execution_count": 22,
   "id": "9dd84817",
   "metadata": {},
   "outputs": [],
   "source": [
    "#OBS: ambas devem ter o mesmo numero de linhas e colunas (mesmo .shape)"
   ]
  },
  {
   "cell_type": "code",
   "execution_count": 24,
   "id": "d5846af1",
   "metadata": {},
   "outputs": [
    {
     "name": "stdout",
     "output_type": "stream",
     "text": [
      "[[13 16]\n",
      " [13 16]]\n"
     ]
    }
   ],
   "source": [
    "matriz3 = np.dot(matriz1 , matriz2)\n",
    "print(matriz3)"
   ]
  },
  {
   "cell_type": "code",
   "execution_count": null,
   "id": "cc8f4a26",
   "metadata": {},
   "outputs": [],
   "source": []
  }
 ],
 "metadata": {
  "kernelspec": {
   "display_name": "Python 3 (ipykernel)",
   "language": "python",
   "name": "python3"
  },
  "language_info": {
   "codemirror_mode": {
    "name": "ipython",
    "version": 3
   },
   "file_extension": ".py",
   "mimetype": "text/x-python",
   "name": "python",
   "nbconvert_exporter": "python",
   "pygments_lexer": "ipython3",
   "version": "3.10.9"
  }
 },
 "nbformat": 4,
 "nbformat_minor": 5
}
