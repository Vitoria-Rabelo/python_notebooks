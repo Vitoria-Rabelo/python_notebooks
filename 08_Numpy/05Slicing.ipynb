{
 "cells": [
  {
   "cell_type": "code",
   "execution_count": 1,
   "id": "9785b91d",
   "metadata": {},
   "outputs": [],
   "source": [
    "#Comparando\n",
    "import numpy\n",
    "\n",
    "a = numpy.array([1, 2, 3 , 4])\n",
    "b = numpy.array([1, 2, 3 , 5])"
   ]
  },
  {
   "cell_type": "code",
   "execution_count": 2,
   "id": "fff44ae3",
   "metadata": {},
   "outputs": [
    {
     "data": {
      "text/plain": [
       "array([ True,  True,  True, False])"
      ]
     },
     "execution_count": 2,
     "metadata": {},
     "output_type": "execute_result"
    }
   ],
   "source": [
    "a == b"
   ]
  },
  {
   "cell_type": "code",
   "execution_count": 3,
   "id": "b0803405",
   "metadata": {},
   "outputs": [
    {
     "data": {
      "text/plain": [
       "False"
      ]
     },
     "execution_count": 3,
     "metadata": {},
     "output_type": "execute_result"
    }
   ],
   "source": [
    "#Comparação Globsl\n",
    "numpy.array_equal(a, b)"
   ]
  },
  {
   "cell_type": "code",
   "execution_count": 8,
   "id": "6e1e2396",
   "metadata": {},
   "outputs": [
    {
     "data": {
      "text/plain": [
       "array([2.5, 3.5, 4.5, 5.5])"
      ]
     },
     "execution_count": 8,
     "metadata": {},
     "output_type": "execute_result"
    }
   ],
   "source": [
    "#Somando um valor a cada elemento do array \n",
    "a + 1.5"
   ]
  },
  {
   "cell_type": "code",
   "execution_count": 10,
   "id": "53b1d745",
   "metadata": {},
   "outputs": [
    {
     "name": "stdout",
     "output_type": "stream",
     "text": [
      "[1 2 3 4]\n"
     ]
    }
   ],
   "source": [
    "#Arredonda\n",
    "c = numpy.around(a)\n",
    "print(c)"
   ]
  },
  {
   "cell_type": "markdown",
   "id": "9e952a41",
   "metadata": {},
   "source": [
    "Flatten: O método flatten com NumPy é usado para criar uma cópia unidimensional (ou \"achatada\") de um array multidimensional."
   ]
  },
  {
   "cell_type": "code",
   "execution_count": 12,
   "id": "543bbef4",
   "metadata": {},
   "outputs": [
    {
     "name": "stdout",
     "output_type": "stream",
     "text": [
      "[[1 2 2]\n",
      " [5 6 8]]\n"
     ]
    }
   ],
   "source": [
    "arr = numpy.array([[1, 2, 2], [5,  6, 8]])\n",
    "print(arr)"
   ]
  },
  {
   "cell_type": "code",
   "execution_count": 13,
   "id": "132bf2f1",
   "metadata": {},
   "outputs": [
    {
     "name": "stdout",
     "output_type": "stream",
     "text": [
      "[1 2 2 5 6 8]\n"
     ]
    }
   ],
   "source": [
    "arr1 = arr.flatten()\n",
    "print(arr1)"
   ]
  },
  {
   "cell_type": "code",
   "execution_count": 15,
   "id": "18612ab1",
   "metadata": {},
   "outputs": [
    {
     "name": "stdout",
     "output_type": "stream",
     "text": [
      "[[1 2 3]\n",
      " [4 5 6]]\n"
     ]
    }
   ],
   "source": [
    "#Repetindo valores de um array\n",
    "arr2 = numpy.array([[1, 2, 3], [4, 5, 6]])\n",
    "print(arr2)"
   ]
  },
  {
   "cell_type": "code",
   "execution_count": 18,
   "id": "dca0c458",
   "metadata": {},
   "outputs": [
    {
     "name": "stdout",
     "output_type": "stream",
     "text": [
      "[1 1 1 1 2 2 2 2 3 3 3 3 4 4 4 4 5 5 5 5 6 6 6 6]\n"
     ]
    }
   ],
   "source": [
    "arr3 = numpy.repeat(arr2, 4)\n",
    "print(arr3)"
   ]
  },
  {
   "cell_type": "code",
   "execution_count": null,
   "id": "c98d298c",
   "metadata": {},
   "outputs": [],
   "source": [
    "#Copiando um array\n",
    "arr3"
   ]
  }
 ],
 "metadata": {
  "kernelspec": {
   "display_name": "Python 3 (ipykernel)",
   "language": "python",
   "name": "python3"
  },
  "language_info": {
   "codemirror_mode": {
    "name": "ipython",
    "version": 3
   },
   "file_extension": ".py",
   "mimetype": "text/x-python",
   "name": "python",
   "nbconvert_exporter": "python",
   "pygments_lexer": "ipython3",
   "version": "3.10.9"
  }
 },
 "nbformat": 4,
 "nbformat_minor": 5
}
