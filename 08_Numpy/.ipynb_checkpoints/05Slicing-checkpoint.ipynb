{
 "cells": [
  {
   "cell_type": "code",
   "execution_count": null,
   "id": "d1dcce4a",
   "metadata": {},
   "outputs": [],
   "source": [
    "#Comparando\n",
    "import numpy\n",
    "\n",
    "a = numpy.array([1, 2, 3 , 4])\n",
    "b = numpy.array([1, 2, 3 , 5])"
   ]
  }
 ],
 "metadata": {
  "kernelspec": {
   "display_name": "Python 3 (ipykernel)",
   "language": "python",
   "name": "python3"
  },
  "language_info": {
   "codemirror_mode": {
    "name": "ipython",
    "version": 3
   },
   "file_extension": ".py",
   "mimetype": "text/x-python",
   "name": "python",
   "nbconvert_exporter": "python",
   "pygments_lexer": "ipython3",
   "version": "3.10.9"
  }
 },
 "nbformat": 4,
 "nbformat_minor": 5
}
