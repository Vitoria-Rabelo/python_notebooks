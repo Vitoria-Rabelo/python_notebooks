{
 "cells": [
  {
   "cell_type": "code",
   "execution_count": 7,
   "id": "4c101ac1",
   "metadata": {},
   "outputs": [],
   "source": [
    "lista = [9, 2, 4, 3, 7, 1, 8, 6, 5, 10]"
   ]
  },
  {
   "cell_type": "code",
   "execution_count": 6,
   "id": "71a8c225",
   "metadata": {},
   "outputs": [],
   "source": [
    "def bubble_sort(arr):\n",
    "    # Definindo a função bubble_sort que recebe uma lista arr\n",
    "    n = len(arr)\n",
    "    # Para cada elemento i no intervalo de n posições\n",
    "    for i in range(n):\n",
    "        # Para cada elemento j, do início da lista até n-i-1\n",
    "        for j in range(0, n-i-1):\n",
    "            # Se o elemento na posição j for maior que o da posição j+1\n",
    "            if arr[j] > arr[j+1]:  # Adicionei dois pontos aqui\n",
    "                # Troque os elementos de posição\n",
    "                arr[j], arr[j+1] = arr[j+1], arr[j]\n",
    "    return arr\n"
   ]
  },
  {
   "cell_type": "code",
   "execution_count": 9,
   "id": "0d6559ae",
   "metadata": {
    "scrolled": true
   },
   "outputs": [
    {
     "name": "stdout",
     "output_type": "stream",
     "text": [
      "[1, 2, 3, 4, 5, 6, 7, 8, 9, 10]\n"
     ]
    }
   ],
   "source": [
    "print(bubble_sort(lista))"
   ]
  },
  {
   "cell_type": "code",
   "execution_count": 7,
   "id": "6f6fbca3",
   "metadata": {},
   "outputs": [],
   "source": [
    "lista2 = [2, 40 , 7, 9 ]"
   ]
  },
  {
   "cell_type": "code",
   "execution_count": 8,
   "id": "47e0c55d",
   "metadata": {
    "scrolled": false
   },
   "outputs": [
    {
     "name": "stdout",
     "output_type": "stream",
     "text": [
      "[2, 7, 9, 40]\n"
     ]
    }
   ],
   "source": [
    "print(bubble_sort(lista2))"
   ]
  },
  {
   "cell_type": "code",
   "execution_count": null,
   "id": "5a5e823a",
   "metadata": {},
   "outputs": [],
   "source": []
  }
 ],
 "metadata": {
  "kernelspec": {
   "display_name": "Python 3 (ipykernel)",
   "language": "python",
   "name": "python3"
  },
  "language_info": {
   "codemirror_mode": {
    "name": "ipython",
    "version": 3
   },
   "file_extension": ".py",
   "mimetype": "text/x-python",
   "name": "python",
   "nbconvert_exporter": "python",
   "pygments_lexer": "ipython3",
   "version": "3.9.13"
  }
 },
 "nbformat": 4,
 "nbformat_minor": 5
}
