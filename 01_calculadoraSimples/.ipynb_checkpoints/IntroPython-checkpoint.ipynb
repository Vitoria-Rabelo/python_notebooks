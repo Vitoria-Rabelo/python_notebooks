{
 "cells": [
  {
   "cell_type": "markdown",
   "id": "32b8254d",
   "metadata": {},
   "source": [
    "Convertendo Pseudocódigo para Python:\n",
    "\n",
    "Inicie\n",
    "\n",
    "    Exiba \"Bem-vindo ao Calculador de Área do Paralelograma\"\n",
    "    Peça para o usuário inserir o comprimento da base\n",
    "    Armazene o comprimento da base em uma variável\n",
    "    Peça para o usuário inserir a altura\n",
    "    Armazene da altura em uma variável\n",
    "    Cálcule a área do paralelogramo: base + altura\n",
    "    Armazene o resultado em uma variável\n",
    "    Exiba o resultado\n",
    "    \n",
    "Fim"
   ]
  },
  {
   "cell_type": "code",
   "execution_count": 1,
   "id": "24d840f1",
   "metadata": {},
   "outputs": [
    {
     "name": "stdout",
     "output_type": "stream",
     "text": [
      "Bem-vindo ao Calculador de Área do Paralelograma\n"
     ]
    }
   ],
   "source": [
    "print(\"Bem-vindo ao Calculador de Área do Paralelograma\")"
   ]
  },
  {
   "cell_type": "code",
   "execution_count": 2,
   "id": "693112c0",
   "metadata": {},
   "outputs": [
    {
     "name": "stdout",
     "output_type": "stream",
     "text": [
      "ïnsira o comprimento da base: 4\n"
     ]
    }
   ],
   "source": [
    "base = float(input(\"ïnsira o comprimento da base: \"))"
   ]
  },
  {
   "cell_type": "code",
   "execution_count": 4,
   "id": "9d14236f",
   "metadata": {
    "scrolled": true
   },
   "outputs": [
    {
     "name": "stdout",
     "output_type": "stream",
     "text": [
      "insira a altura: 6\n"
     ]
    }
   ],
   "source": [
    "altura = float(input(\"insira a altura: \"))"
   ]
  },
  {
   "cell_type": "code",
   "execution_count": 6,
   "id": "9cb0226a",
   "metadata": {},
   "outputs": [],
   "source": [
    "area = base * altura"
   ]
  },
  {
   "cell_type": "code",
   "execution_count": 7,
   "id": "623d7ac3",
   "metadata": {},
   "outputs": [
    {
     "name": "stdout",
     "output_type": "stream",
     "text": [
      "A área do paralelograma é:  24.0\n"
     ]
    }
   ],
   "source": [
    "print(\"A área do paralelograma é: \", area)"
   ]
  }
 ],
 "metadata": {
  "kernelspec": {
   "display_name": "Python 3 (ipykernel)",
   "language": "python",
   "name": "python3"
  },
  "language_info": {
   "codemirror_mode": {
    "name": "ipython",
    "version": 3
   },
   "file_extension": ".py",
   "mimetype": "text/x-python",
   "name": "python",
   "nbconvert_exporter": "python",
   "pygments_lexer": "ipython3",
   "version": "3.9.13"
  }
 },
 "nbformat": 4,
 "nbformat_minor": 5
}
