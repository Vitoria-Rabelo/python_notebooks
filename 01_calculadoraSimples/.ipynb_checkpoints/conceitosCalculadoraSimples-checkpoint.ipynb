{
 "cells": [
  {
   "cell_type": "code",
   "execution_count": 3,
   "id": "39264e2d",
   "metadata": {},
   "outputs": [
    {
     "name": "stdout",
     "output_type": "stream",
     "text": [
      "Bem-vindo a Calculadora!\n"
     ]
    }
   ],
   "source": [
    "print(\"Bem-vindo a Calculadora!\")"
   ]
  },
  {
   "cell_type": "code",
   "execution_count": null,
   "id": "354a9c59",
   "metadata": {},
   "outputs": [],
   "source": [
    "num1 = float(input(\"insira o número: \"))"
   ]
  },
  {
   "cell_type": "code",
   "execution_count": null,
   "id": "ae5374bc",
   "metadata": {},
   "outputs": [],
   "source": [
    "num2 = float(input(\"insira mais um número: \"))"
   ]
  },
  {
   "cell_type": "code",
   "execution_count": null,
   "id": "4d610cc7",
   "metadata": {
    "scrolled": true
   },
   "outputs": [],
   "source": [
    "operacao = input(\"selecione a operação (+, -, *, /): \")"
   ]
  },
  {
   "cell_type": "code",
   "execution_count": null,
   "id": "05e0e3cd",
   "metadata": {
    "scrolled": true
   },
   "outputs": [],
   "source": [
    "if operacao == \"+\" :\n",
    "    resultado = num1 + num2\n",
    "    print(\"o resultado é: \", resultado)\n",
    "elif operacao == \"-\" :\n",
    "    resultado = num1 - num2\n",
    "    print(\"o resultado é: \", resultado)\n",
    "elif operacao == \"*\" :\n",
    "    resultado = num1 * num2\n",
    "    print(\"o resultado é: \", resultado)\n",
    "elif operacao == \"/\" :\n",
    "    resultado = num1 / num2\n",
    "    print(\"o resultado é: \", resultado)\n",
    "else:\n",
    "    print(\"operação fornecida inválida\")"
   ]
  },
  {
   "cell_type": "code",
   "execution_count": null,
   "id": "4a389e4d",
   "metadata": {},
   "outputs": [],
   "source": []
  }
 ],
 "metadata": {
  "kernelspec": {
   "display_name": "Python 3 (ipykernel)",
   "language": "python",
   "name": "python3"
  },
  "language_info": {
   "codemirror_mode": {
    "name": "ipython",
    "version": 3
   },
   "file_extension": ".py",
   "mimetype": "text/x-python",
   "name": "python",
   "nbconvert_exporter": "python",
   "pygments_lexer": "ipython3",
   "version": "3.10.9"
  }
 },
 "nbformat": 4,
 "nbformat_minor": 5
}
