{
 "cells": [
  {
   "cell_type": "markdown",
   "id": "cc5ececc",
   "metadata": {},
   "source": [
    "# Aplicando em um problema de negócio:"
   ]
  },
  {
   "cell_type": "code",
   "execution_count": null,
   "id": "17f07489",
   "metadata": {},
   "outputs": [],
   "source": [
    "Usando dados históricos de vendas de 2023, podemos prever o"
   ]
  }
 ],
 "metadata": {
  "kernelspec": {
   "display_name": "Python 3 (ipykernel)",
   "language": "python",
   "name": "python3"
  },
  "language_info": {
   "codemirror_mode": {
    "name": "ipython",
    "version": 3
   },
   "file_extension": ".py",
   "mimetype": "text/x-python",
   "name": "python",
   "nbconvert_exporter": "python",
   "pygments_lexer": "ipython3",
   "version": "3.10.9"
  }
 },
 "nbformat": 4,
 "nbformat_minor": 5
}
