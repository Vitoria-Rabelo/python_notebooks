{
 "cells": [
  {
   "cell_type": "markdown",
   "id": "b037c60f",
   "metadata": {},
   "source": [
    "Métodos de classes são funções definidas que realizam operações específicas em objetos criados a partir dessa classe. Os métodos de classes sempre incluem o parâmetro self como o primeiro argumento, que é usado para se referir ao objeto atual da classe."
   ]
  },
  {
   "cell_type": "markdown",
   "id": "fc2b785c",
   "metadata": {},
   "source": [
    "Init é um método especial (construtor) que inicializa os atributos do objeto criado."
   ]
  },
  {
   "cell_type": "code",
   "execution_count": 26,
   "id": "449e77cb",
   "metadata": {},
   "outputs": [],
   "source": [
    "class Circulo():\n",
    "    pi = 3.14;\n",
    "    \n",
    "    def __init__(self, raio = 5) : self.raio = raio\n",
    "        \n",
    "    def area(self):\n",
    "        return (self.raio * self.raio) * Circulo.pi\n",
    "    \n",
    "    #modificar o valor\n",
    "    def setRaio(self, novoRaio):\n",
    "        self.raio = novoRaio\n",
    "        \n",
    "    #ler o valor do atributo privado\n",
    "    def getRaio(self):\n",
    "        return self.raio"
   ]
  },
  {
   "cell_type": "code",
   "execution_count": 27,
   "id": "a0e2df52",
   "metadata": {},
   "outputs": [],
   "source": [
    "#criando um objeto, uma instania da classe Circulo\n",
    "circulo1 = Circulo()"
   ]
  },
  {
   "cell_type": "code",
   "execution_count": 28,
   "id": "2ede74ac",
   "metadata": {},
   "outputs": [
    {
     "data": {
      "text/plain": [
       "5"
      ]
     },
     "execution_count": 28,
     "metadata": {},
     "output_type": "execute_result"
    }
   ],
   "source": [
    "#executando método da classe\n",
    "circulo1.getRaio()"
   ]
  },
  {
   "cell_type": "code",
   "execution_count": 29,
   "id": "bc4b1344",
   "metadata": {},
   "outputs": [
    {
     "name": "stdout",
     "output_type": "stream",
     "text": [
      "O raio do circulo é: 5\n"
     ]
    }
   ],
   "source": [
    "print('O raio do circulo é:',circulo1.getRaio())"
   ]
  },
  {
   "cell_type": "code",
   "execution_count": 30,
   "id": "6627001a",
   "metadata": {},
   "outputs": [
    {
     "name": "stdout",
     "output_type": "stream",
     "text": [
      "A área do circulo é: 78.5\n"
     ]
    }
   ],
   "source": [
    "print('A área do circulo é:',circulo1.area())"
   ]
  },
  {
   "cell_type": "code",
   "execution_count": 31,
   "id": "07eb64bd",
   "metadata": {},
   "outputs": [],
   "source": [
    "#modificando o valor de raio\n",
    "circulo1.setRaio(4)"
   ]
  },
  {
   "cell_type": "code",
   "execution_count": 32,
   "id": "3243fb32",
   "metadata": {},
   "outputs": [
    {
     "name": "stdout",
     "output_type": "stream",
     "text": [
      "O novo raio é: 4\n"
     ]
    }
   ],
   "source": [
    "print('O novo raio é:', circulo1.getRaio())"
   ]
  },
  {
   "cell_type": "code",
   "execution_count": null,
   "id": "70aa5691",
   "metadata": {},
   "outputs": [],
   "source": []
  }
 ],
 "metadata": {
  "kernelspec": {
   "display_name": "Python 3 (ipykernel)",
   "language": "python",
   "name": "python3"
  },
  "language_info": {
   "codemirror_mode": {
    "name": "ipython",
    "version": 3
   },
   "file_extension": ".py",
   "mimetype": "text/x-python",
   "name": "python",
   "nbconvert_exporter": "python",
   "pygments_lexer": "ipython3",
   "version": "3.10.9"
  }
 },
 "nbformat": 4,
 "nbformat_minor": 5
}
