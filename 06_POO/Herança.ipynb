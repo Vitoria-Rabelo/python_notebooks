{
 "cells": [
  {
   "cell_type": "markdown",
   "id": "bdc3d2ef",
   "metadata": {},
   "source": [
    "Herança: uma subclasse pode herdar os atributos e métodos da superclasse e substituí-los ou \n",
    "estendê-los conforme necessário."
   ]
  },
  {
   "cell_type": "code",
   "execution_count": 2,
   "id": "f3c1c310",
   "metadata": {},
   "outputs": [],
   "source": [
    "#Super-classe \n",
    "class Animal():\n",
    "    def __init__(self):\n",
    "        print('Animal criado.')\n",
    "    \n",
    "    def imprimir(self):\n",
    "        print('Este é um animal.')\n",
    "    \n",
    "    def comer(self):\n",
    "        print('Está na hora de comer.')\n",
    "        \n",
    "    #esse método ainda não existe, mas define-se que ele existe. É como criar algo que existe mas está vazio.\n",
    "    def barulho(self):\n",
    "        pass"
   ]
  },
  {
   "cell_type": "code",
   "execution_count": 5,
   "id": "1cc715cb",
   "metadata": {},
   "outputs": [],
   "source": [
    "#Sub-classe\n",
    "class Gato(Animal):\n",
    "    def __init__(self):\n",
    "        Animal.__init__(self)\n",
    "        print('O objeto gato foi criado.')\n",
    "        \n",
    "    def barulho(self):\n",
    "        print('miau!')\n",
    "    \n",
    "    "
   ]
  },
  {
   "cell_type": "code",
   "execution_count": 6,
   "id": "7288615a",
   "metadata": {},
   "outputs": [
    {
     "name": "stdout",
     "output_type": "stream",
     "text": [
      "Animal criado.\n",
      "O objeto gato foi criado.\n"
     ]
    }
   ],
   "source": [
    "#criando um objeto instanciando a classe:\n",
    "bola_de_neve = Gato()"
   ]
  },
  {
   "cell_type": "code",
   "execution_count": 7,
   "id": "625ee48f",
   "metadata": {},
   "outputs": [
    {
     "name": "stdout",
     "output_type": "stream",
     "text": [
      "miau!\n"
     ]
    }
   ],
   "source": [
    "bola_de_neve.barulho()"
   ]
  },
  {
   "cell_type": "code",
   "execution_count": 8,
   "id": "56f3de6b",
   "metadata": {},
   "outputs": [
    {
     "name": "stdout",
     "output_type": "stream",
     "text": [
      "Está na hora de comer.\n"
     ]
    }
   ],
   "source": [
    "bola_de_neve.comer()"
   ]
  },
  {
   "cell_type": "code",
   "execution_count": 9,
   "id": "70c7f9ae",
   "metadata": {},
   "outputs": [
    {
     "name": "stdout",
     "output_type": "stream",
     "text": [
      "Este é um animal.\n"
     ]
    }
   ],
   "source": [
    "bola_de_neve.imprimir()"
   ]
  },
  {
   "cell_type": "code",
   "execution_count": null,
   "id": "07b64054",
   "metadata": {},
   "outputs": [],
   "source": []
  }
 ],
 "metadata": {
  "kernelspec": {
   "display_name": "Python 3 (ipykernel)",
   "language": "python",
   "name": "python3"
  },
  "language_info": {
   "codemirror_mode": {
    "name": "ipython",
    "version": 3
   },
   "file_extension": ".py",
   "mimetype": "text/x-python",
   "name": "python",
   "nbconvert_exporter": "python",
   "pygments_lexer": "ipython3",
   "version": "3.10.9"
  }
 },
 "nbformat": 4,
 "nbformat_minor": 5
}
