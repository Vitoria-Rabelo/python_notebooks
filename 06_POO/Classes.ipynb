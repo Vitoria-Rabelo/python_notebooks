{
 "cells": [
  {
   "cell_type": "markdown",
   "id": "0f2e0ff7",
   "metadata": {},
   "source": [
    "Criando uma classe"
   ]
  },
  {
   "cell_type": "code",
   "execution_count": 9,
   "id": "0df28cd6",
   "metadata": {},
   "outputs": [],
   "source": [
    "class Livro():\n",
    "    #funções (def) em poo são chamadas de métodos\n",
    "    \n",
    "    #método construtor que inicializa os atributos da classe\n",
    "    #self referencia que os atributos são dessa classe\n",
    "    def __init__(self,  titulo, codigoDoLivro):\n",
    "        self.titulo = titulo\n",
    "        self.codigoDoLivro = codigoDoLivro\n",
    "        print(\"Construtor chamado para criar um novo objeto\")\n",
    "        \n",
    "    def imprime(self, titulo, codigoDoLivro):\n",
    "        print(\"Este livro é %s e tem o código %d\" %(titulo,codigoDoLivro))\n"
   ]
  },
  {
   "cell_type": "code",
   "execution_count": 11,
   "id": "a7c5435f",
   "metadata": {
    "scrolled": true
   },
   "outputs": [
    {
     "name": "stdout",
     "output_type": "stream",
     "text": [
      "Construtor chamado para criar um novo objeto\n"
     ]
    }
   ],
   "source": [
    "#criando uma instância da classe livro:\n",
    "livro1 = Livro(\"Alice No Pais Das Maravilhas\", 123)\n"
   ]
  },
  {
   "cell_type": "code",
   "execution_count": 12,
   "id": "72cc80b0",
   "metadata": {},
   "outputs": [
    {
     "data": {
      "text/plain": [
       "__main__.Livro"
      ]
     },
     "execution_count": 12,
     "metadata": {},
     "output_type": "execute_result"
    }
   ],
   "source": [
    "#o tipo da instância é Livro()\n",
    "type(livro1)"
   ]
  },
  {
   "cell_type": "code",
   "execution_count": 13,
   "id": "9721ab1e",
   "metadata": {},
   "outputs": [
    {
     "data": {
      "text/plain": [
       "'Alice No Pais Das Maravilhas'"
      ]
     },
     "execution_count": 13,
     "metadata": {},
     "output_type": "execute_result"
    }
   ],
   "source": [
    "#atributo do objeto livro1\n",
    "livro1.titulo"
   ]
  },
  {
   "cell_type": "code",
   "execution_count": 15,
   "id": "9cbae45e",
   "metadata": {},
   "outputs": [
    {
     "data": {
      "text/plain": [
       "True"
      ]
     },
     "execution_count": 15,
     "metadata": {},
     "output_type": "execute_result"
    }
   ],
   "source": [
    "#há atributo título? return true or false\n",
    "hasattr(livro1, \"titulo\")"
   ]
  },
  {
   "cell_type": "code",
   "execution_count": 19,
   "id": "c7f67fa3",
   "metadata": {},
   "outputs": [],
   "source": [
    "#modificando o valor do atributo\n",
    "setattr(livro1, \"titulo\", \"Alice No País Das Maravilhas by Vitoria\")"
   ]
  },
  {
   "cell_type": "code",
   "execution_count": 20,
   "id": "c52d5da3",
   "metadata": {},
   "outputs": [
    {
     "name": "stdout",
     "output_type": "stream",
     "text": [
      "Alice No País Das Maravilhas by Vitoria\n"
     ]
    }
   ],
   "source": [
    "print(livro1.titulo)"
   ]
  },
  {
   "cell_type": "code",
   "execution_count": 22,
   "id": "7af8bf51",
   "metadata": {},
   "outputs": [
    {
     "data": {
      "text/plain": [
       "123"
      ]
     },
     "execution_count": 22,
     "metadata": {},
     "output_type": "execute_result"
    }
   ],
   "source": [
    "#acesse o valor do atributo\n",
    "getattr(livro1, \"codigoDoLivro\")"
   ]
  },
  {
   "cell_type": "code",
   "execution_count": 23,
   "id": "77c944a8",
   "metadata": {},
   "outputs": [],
   "source": [
    "#delete o valor do atributo\n",
    "delattr(livro1, \"codigoDoLivro\")"
   ]
  },
  {
   "cell_type": "code",
   "execution_count": 24,
   "id": "65107e9c",
   "metadata": {},
   "outputs": [
    {
     "data": {
      "text/plain": [
       "False"
      ]
     },
     "execution_count": 24,
     "metadata": {},
     "output_type": "execute_result"
    }
   ],
   "source": [
    "hasattr(livro1, \"codigoDoLivro\")"
   ]
  },
  {
   "cell_type": "code",
   "execution_count": null,
   "id": "88d37e29",
   "metadata": {},
   "outputs": [],
   "source": []
  }
 ],
 "metadata": {
  "kernelspec": {
   "display_name": "Python 3 (ipykernel)",
   "language": "python",
   "name": "python3"
  },
  "language_info": {
   "codemirror_mode": {
    "name": "ipython",
    "version": 3
   },
   "file_extension": ".py",
   "mimetype": "text/x-python",
   "name": "python",
   "nbconvert_exporter": "python",
   "pygments_lexer": "ipython3",
   "version": "3.10.9"
  }
 },
 "nbformat": 4,
 "nbformat_minor": 5
}
