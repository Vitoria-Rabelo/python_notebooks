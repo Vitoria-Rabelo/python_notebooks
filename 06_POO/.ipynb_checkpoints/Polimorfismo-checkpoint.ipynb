{
 "cells": [
  {
   "cell_type": "markdown",
   "id": "fe36e357",
   "metadata": {},
   "source": [
    "Polimosfirmo: é a capacidade de objetos de classes diferentes responderem de maneiras diferentes à mesma mensagem. Por exemplo, uma variável do tipo \"Mamífero\" pode receber objetos de subclasses de \"Mamífero\", como \"Macaco\", \"Homem\" e \"Baleia\". Cada uma dessas subclasses responderá à mensagem \"locomoverSe()\" de uma forma diferente."
   ]
  },
  {
   "cell_type": "code",
   "execution_count": 8,
   "id": "ebff3293",
   "metadata": {},
   "outputs": [],
   "source": [
    "#Super-classe:\n",
    "\n",
    "class Veiculo():\n",
    "    def __init__(self, marca, modelo):\n",
    "        self.marca = marca\n",
    "        self.modelo = modelo\n",
    "        \n",
    "    def acelerar(self):\n",
    "        pass\n",
    "    \n",
    "    def frear(self):\n",
    "        pass\n",
    "    "
   ]
  },
  {
   "cell_type": "code",
   "execution_count": 14,
   "id": "e70ed164",
   "metadata": {},
   "outputs": [],
   "source": [
    "#Sub-classe:\n",
    "class Carro(Veiculo):\n",
    "        \n",
    "    def acelerar(self):\n",
    "        print('O carro está acelerado.')\n",
    "        \n",
    "    def frear(self):\n",
    "        print('O carro parou.')\n",
    "        "
   ]
  },
  {
   "cell_type": "code",
   "execution_count": 15,
   "id": "a626fe7c",
   "metadata": {},
   "outputs": [],
   "source": [
    "#Sub-classe:\n",
    "class Aviao(Veiculo):\n",
    "    def acelerar(self):\n",
    "        print('O avião está acelerando.')\n",
    "    \n",
    "    def frear(self):\n",
    "        print('O avião está freiando.')\n",
    "        \n",
    "    def decolar(self):\n",
    "        print('O avião está decolando.')"
   ]
  },
  {
   "cell_type": "code",
   "execution_count": 16,
   "id": "4516e6b2",
   "metadata": {},
   "outputs": [],
   "source": [
    "lista_veiculos = [Carro(\"Porshe\",\"991 Turbo\"), Aviao(\"Boeing\", \"757\")]"
   ]
  },
  {
   "cell_type": "code",
   "execution_count": 20,
   "id": "0359f637",
   "metadata": {},
   "outputs": [
    {
     "name": "stdout",
     "output_type": "stream",
     "text": [
      "O carro está acelerado.\n",
      "O carro parou.\n",
      "---\n",
      "O avião está acelerando.\n",
      "O avião está freiando.\n",
      "O avião está decolando.\n",
      "---\n"
     ]
    }
   ],
   "source": [
    "#Loop\n",
    "for item in lista_veiculos:\n",
    "    item.acelerar()\n",
    "    \n",
    "    item.frear()\n",
    "    \n",
    "    if isinstance(item, Aviao):\n",
    "        item.decolar()\n",
    "        \n",
    "    print('---')"
   ]
  },
  {
   "cell_type": "code",
   "execution_count": null,
   "id": "5f953ed9",
   "metadata": {},
   "outputs": [],
   "source": []
  },
  {
   "cell_type": "code",
   "execution_count": null,
   "id": "f953eb90",
   "metadata": {},
   "outputs": [],
   "source": []
  }
 ],
 "metadata": {
  "kernelspec": {
   "display_name": "Python 3 (ipykernel)",
   "language": "python",
   "name": "python3"
  },
  "language_info": {
   "codemirror_mode": {
    "name": "ipython",
    "version": 3
   },
   "file_extension": ".py",
   "mimetype": "text/x-python",
   "name": "python",
   "nbconvert_exporter": "python",
   "pygments_lexer": "ipython3",
   "version": "3.10.9"
  }
 },
 "nbformat": 4,
 "nbformat_minor": 5
}
