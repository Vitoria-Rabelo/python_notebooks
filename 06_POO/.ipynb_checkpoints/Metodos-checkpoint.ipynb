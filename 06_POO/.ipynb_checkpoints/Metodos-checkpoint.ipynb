{
 "cells": [
  {
   "cell_type": "markdown",
   "id": "b934f436",
   "metadata": {},
   "source": [
    "Métodos de classes são funções definidas que realizam operações específicas em objetos criados a partir dessa classe. Os métodos de classes sempre incluem o parâmetro self como o primeiro argumento, que é usado para se referir ao objeto atual da classe."
   ]
  },
  {
   "cell_type": "markdown",
   "id": "1a48d90f",
   "metadata": {},
   "source": [
    "Init é um método especial (construtor) que inicializa os atributos do objeto criado."
   ]
  },
  {
   "cell_type": "code",
   "execution_count": 20,
   "id": "83250aa7",
   "metadata": {},
   "outputs": [],
   "source": [
    "class Circulo():\n",
    "    pi = 3.14;\n",
    "    \n",
    "    def __init__(self, raio = 5) : self.raio = raio\n",
    "        \n",
    "    def area(self):\n",
    "        return (self.raio * self.raio) * Circulo.pi\n",
    "    \n",
    "    #modificar o valor\n",
    "    def setRaio(self, novoRaio):\n",
    "        self.raio = novoRaio\n",
    "        \n",
    "    #ler o valor do atributo privado\n",
    "    def getRaio(self):\n",
    "        return self.raio"
   ]
  },
  {
   "cell_type": "code",
   "execution_count": 21,
   "id": "ba102f1a",
   "metadata": {},
   "outputs": [],
   "source": [
    "#criando um objeto, uma instania da classe Circulo\n",
    "circulo1 = Circulo()"
   ]
  },
  {
   "cell_type": "code",
   "execution_count": 22,
   "id": "e5d08ba8",
   "metadata": {},
   "outputs": [
    {
     "data": {
      "text/plain": [
       "5"
      ]
     },
     "execution_count": 22,
     "metadata": {},
     "output_type": "execute_result"
    }
   ],
   "source": [
    "#executando método da classe\n",
    "circulo1.getRaio()"
   ]
  },
  {
   "cell_type": "code",
   "execution_count": 23,
   "id": "cf5de93d",
   "metadata": {},
   "outputs": [
    {
     "name": "stdout",
     "output_type": "stream",
     "text": [
      "O raio do circulo é: 5\n"
     ]
    }
   ],
   "source": [
    "print('O raio do circulo é:',circulo1.getRaio())"
   ]
  },
  {
   "cell_type": "code",
   "execution_count": 24,
   "id": "1013da5c",
   "metadata": {},
   "outputs": [
    {
     "name": "stdout",
     "output_type": "stream",
     "text": [
      "A área do circulo é: 78.5\n"
     ]
    }
   ],
   "source": [
    "print('A área do circulo é:',circulo1.area())"
   ]
  },
  {
   "cell_type": "code",
   "execution_count": 25,
   "id": "b6233d24",
   "metadata": {},
   "outputs": [
    {
     "ename": "NameError",
     "evalue": "name 'novo_raio' is not defined",
     "output_type": "error",
     "traceback": [
      "\u001b[0;31m---------------------------------------------------------------------------\u001b[0m",
      "\u001b[0;31mNameError\u001b[0m                                 Traceback (most recent call last)",
      "Cell \u001b[0;32mIn[25], line 2\u001b[0m\n\u001b[1;32m      1\u001b[0m \u001b[38;5;66;03m#modificando o valor de raio\u001b[39;00m\n\u001b[0;32m----> 2\u001b[0m \u001b[43mcirculo1\u001b[49m\u001b[38;5;241;43m.\u001b[39;49m\u001b[43msetRaio\u001b[49m\u001b[43m(\u001b[49m\u001b[38;5;241;43m4\u001b[39;49m\u001b[43m)\u001b[49m\n",
      "Cell \u001b[0;32mIn[20], line 11\u001b[0m, in \u001b[0;36mCirculo.setRaio\u001b[0;34m(self, novoRaio)\u001b[0m\n\u001b[1;32m     10\u001b[0m \u001b[38;5;28;01mdef\u001b[39;00m \u001b[38;5;21msetRaio\u001b[39m(\u001b[38;5;28mself\u001b[39m, novoRaio):\n\u001b[0;32m---> 11\u001b[0m     \u001b[38;5;28mself\u001b[39m\u001b[38;5;241m.\u001b[39mraio \u001b[38;5;241m=\u001b[39m \u001b[43mnovo_raio\u001b[49m\n",
      "\u001b[0;31mNameError\u001b[0m: name 'novo_raio' is not defined"
     ]
    }
   ],
   "source": [
    "#modificando o valor de raio\n",
    "circulo1.setRaio(4)"
   ]
  },
  {
   "cell_type": "code",
   "execution_count": null,
   "id": "970fd977",
   "metadata": {},
   "outputs": [],
   "source": []
  }
 ],
 "metadata": {
  "kernelspec": {
   "display_name": "Python 3 (ipykernel)",
   "language": "python",
   "name": "python3"
  },
  "language_info": {
   "codemirror_mode": {
    "name": "ipython",
    "version": 3
   },
   "file_extension": ".py",
   "mimetype": "text/x-python",
   "name": "python",
   "nbconvert_exporter": "python",
   "pygments_lexer": "ipython3",
   "version": "3.10.9"
  }
 },
 "nbformat": 4,
 "nbformat_minor": 5
}
