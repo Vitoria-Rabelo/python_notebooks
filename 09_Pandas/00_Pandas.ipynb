{
 "cells": [
  {
   "cell_type": "code",
   "execution_count": 3,
   "id": "d0324232",
   "metadata": {},
   "outputs": [
    {
     "data": {
      "text/plain": [
       "'1.5.3'"
      ]
     },
     "execution_count": 3,
     "metadata": {},
     "output_type": "execute_result"
    }
   ],
   "source": [
    "#instale o pandas\n",
    "# pip install pandas\n",
    "import pandas as pd\n",
    "pd.__version__"
   ]
  },
  {
   "cell_type": "markdown",
   "id": "74c78377",
   "metadata": {},
   "source": [
    "# Manipulando Em DataFrames do Pandas"
   ]
  },
  {
   "cell_type": "code",
   "execution_count": 4,
   "id": "7298101f",
   "metadata": {},
   "outputs": [],
   "source": [
    "#Criando um dicionário\n",
    "dados = {'Estado':['Santa Catarina','Rio De Janeiro','Toantins','Bahia','Minas Gerais'], \n",
    "                   'Ano': [2004, 2005, 2006, 2007, 2008],\n",
    "                    'Taxa De Desemprego': [1.5, 1.7, 1.6, 2.4, 2.7]}"
   ]
  },
  {
   "cell_type": "code",
   "execution_count": 5,
   "id": "8870e32d",
   "metadata": {},
   "outputs": [],
   "source": [
    "#Importa a função DataFrames do Pandas\n",
    "from pandas import DataFrame"
   ]
  },
  {
   "cell_type": "code",
   "execution_count": 6,
   "id": "a5cce73f",
   "metadata": {},
   "outputs": [],
   "source": [
    "#Converte Dicionário em um DataFrame\n",
    "df = DataFrame(dados)"
   ]
  },
  {
   "cell_type": "code",
   "execution_count": 7,
   "id": "51ea4482",
   "metadata": {},
   "outputs": [
    {
     "data": {
      "text/html": [
       "<div>\n",
       "<style scoped>\n",
       "    .dataframe tbody tr th:only-of-type {\n",
       "        vertical-align: middle;\n",
       "    }\n",
       "\n",
       "    .dataframe tbody tr th {\n",
       "        vertical-align: top;\n",
       "    }\n",
       "\n",
       "    .dataframe thead th {\n",
       "        text-align: right;\n",
       "    }\n",
       "</style>\n",
       "<table border=\"1\" class=\"dataframe\">\n",
       "  <thead>\n",
       "    <tr style=\"text-align: right;\">\n",
       "      <th></th>\n",
       "      <th>Estado</th>\n",
       "      <th>Ano</th>\n",
       "      <th>Taxa De Desemprego</th>\n",
       "    </tr>\n",
       "  </thead>\n",
       "  <tbody>\n",
       "    <tr>\n",
       "      <th>0</th>\n",
       "      <td>Santa Catarina</td>\n",
       "      <td>2004</td>\n",
       "      <td>1.5</td>\n",
       "    </tr>\n",
       "    <tr>\n",
       "      <th>1</th>\n",
       "      <td>Rio De Janeiro</td>\n",
       "      <td>2005</td>\n",
       "      <td>1.7</td>\n",
       "    </tr>\n",
       "    <tr>\n",
       "      <th>2</th>\n",
       "      <td>Toantins</td>\n",
       "      <td>2006</td>\n",
       "      <td>1.6</td>\n",
       "    </tr>\n",
       "    <tr>\n",
       "      <th>3</th>\n",
       "      <td>Bahia</td>\n",
       "      <td>2007</td>\n",
       "      <td>2.4</td>\n",
       "    </tr>\n",
       "    <tr>\n",
       "      <th>4</th>\n",
       "      <td>Minas Gerais</td>\n",
       "      <td>2008</td>\n",
       "      <td>2.7</td>\n",
       "    </tr>\n",
       "  </tbody>\n",
       "</table>\n",
       "</div>"
      ],
      "text/plain": [
       "           Estado   Ano  Taxa De Desemprego\n",
       "0  Santa Catarina  2004                 1.5\n",
       "1  Rio De Janeiro  2005                 1.7\n",
       "2        Toantins  2006                 1.6\n",
       "3           Bahia  2007                 2.4\n",
       "4    Minas Gerais  2008                 2.7"
      ]
     },
     "execution_count": 7,
     "metadata": {},
     "output_type": "execute_result"
    }
   ],
   "source": [
    "#vizualiza as primeiras 5 linhas:\n",
    "df.head()"
   ]
  },
  {
   "cell_type": "code",
   "execution_count": 8,
   "id": "18c6815c",
   "metadata": {},
   "outputs": [
    {
     "data": {
      "text/plain": [
       "pandas.core.frame.DataFrame"
      ]
     },
     "execution_count": 8,
     "metadata": {},
     "output_type": "execute_result"
    }
   ],
   "source": [
    "type(df)"
   ]
  },
  {
   "cell_type": "code",
   "execution_count": 9,
   "id": "6e4ca394",
   "metadata": {},
   "outputs": [
    {
     "data": {
      "text/html": [
       "<div>\n",
       "<style scoped>\n",
       "    .dataframe tbody tr th:only-of-type {\n",
       "        vertical-align: middle;\n",
       "    }\n",
       "\n",
       "    .dataframe tbody tr th {\n",
       "        vertical-align: top;\n",
       "    }\n",
       "\n",
       "    .dataframe thead th {\n",
       "        text-align: right;\n",
       "    }\n",
       "</style>\n",
       "<table border=\"1\" class=\"dataframe\">\n",
       "  <thead>\n",
       "    <tr style=\"text-align: right;\">\n",
       "      <th></th>\n",
       "      <th>Estado</th>\n",
       "      <th>Taxa De Desemprego</th>\n",
       "      <th>Ano</th>\n",
       "    </tr>\n",
       "  </thead>\n",
       "  <tbody>\n",
       "    <tr>\n",
       "      <th>0</th>\n",
       "      <td>Santa Catarina</td>\n",
       "      <td>1.5</td>\n",
       "      <td>2004</td>\n",
       "    </tr>\n",
       "    <tr>\n",
       "      <th>1</th>\n",
       "      <td>Rio De Janeiro</td>\n",
       "      <td>1.7</td>\n",
       "      <td>2005</td>\n",
       "    </tr>\n",
       "    <tr>\n",
       "      <th>2</th>\n",
       "      <td>Toantins</td>\n",
       "      <td>1.6</td>\n",
       "      <td>2006</td>\n",
       "    </tr>\n",
       "    <tr>\n",
       "      <th>3</th>\n",
       "      <td>Bahia</td>\n",
       "      <td>2.4</td>\n",
       "      <td>2007</td>\n",
       "    </tr>\n",
       "    <tr>\n",
       "      <th>4</th>\n",
       "      <td>Minas Gerais</td>\n",
       "      <td>2.7</td>\n",
       "      <td>2008</td>\n",
       "    </tr>\n",
       "  </tbody>\n",
       "</table>\n",
       "</div>"
      ],
      "text/plain": [
       "           Estado  Taxa De Desemprego   Ano\n",
       "0  Santa Catarina                 1.5  2004\n",
       "1  Rio De Janeiro                 1.7  2005\n",
       "2        Toantins                 1.6  2006\n",
       "3           Bahia                 2.4  2007\n",
       "4    Minas Gerais                 2.7  2008"
      ]
     },
     "execution_count": 9,
     "metadata": {},
     "output_type": "execute_result"
    }
   ],
   "source": [
    "#Reorganizando Colunas\n",
    "DataFrame(dados, columns = ['Estado', 'Taxa De Desemprego', 'Ano'])"
   ]
  },
  {
   "cell_type": "code",
   "execution_count": 10,
   "id": "07981874",
   "metadata": {},
   "outputs": [],
   "source": [
    "#Acrescentando Nova Coluna e adicionando indices\n",
    "df2 = DataFrame(dados, columns = ['Estado', 'Taxa De Desemprego', 'Taxa Crescimento', 'Ano'],\n",
    "               index = ['estado1', 'estado2', 'estado3', 'estado4', 'estado5'])"
   ]
  },
  {
   "cell_type": "code",
   "execution_count": 11,
   "id": "2054d10e",
   "metadata": {},
   "outputs": [
    {
     "data": {
      "text/html": [
       "<div>\n",
       "<style scoped>\n",
       "    .dataframe tbody tr th:only-of-type {\n",
       "        vertical-align: middle;\n",
       "    }\n",
       "\n",
       "    .dataframe tbody tr th {\n",
       "        vertical-align: top;\n",
       "    }\n",
       "\n",
       "    .dataframe thead th {\n",
       "        text-align: right;\n",
       "    }\n",
       "</style>\n",
       "<table border=\"1\" class=\"dataframe\">\n",
       "  <thead>\n",
       "    <tr style=\"text-align: right;\">\n",
       "      <th></th>\n",
       "      <th>Estado</th>\n",
       "      <th>Taxa De Desemprego</th>\n",
       "      <th>Taxa Crescimento</th>\n",
       "      <th>Ano</th>\n",
       "    </tr>\n",
       "  </thead>\n",
       "  <tbody>\n",
       "    <tr>\n",
       "      <th>estado1</th>\n",
       "      <td>Santa Catarina</td>\n",
       "      <td>1.5</td>\n",
       "      <td>NaN</td>\n",
       "      <td>2004</td>\n",
       "    </tr>\n",
       "    <tr>\n",
       "      <th>estado2</th>\n",
       "      <td>Rio De Janeiro</td>\n",
       "      <td>1.7</td>\n",
       "      <td>NaN</td>\n",
       "      <td>2005</td>\n",
       "    </tr>\n",
       "    <tr>\n",
       "      <th>estado3</th>\n",
       "      <td>Toantins</td>\n",
       "      <td>1.6</td>\n",
       "      <td>NaN</td>\n",
       "      <td>2006</td>\n",
       "    </tr>\n",
       "    <tr>\n",
       "      <th>estado4</th>\n",
       "      <td>Bahia</td>\n",
       "      <td>2.4</td>\n",
       "      <td>NaN</td>\n",
       "      <td>2007</td>\n",
       "    </tr>\n",
       "    <tr>\n",
       "      <th>estado5</th>\n",
       "      <td>Minas Gerais</td>\n",
       "      <td>2.7</td>\n",
       "      <td>NaN</td>\n",
       "      <td>2008</td>\n",
       "    </tr>\n",
       "  </tbody>\n",
       "</table>\n",
       "</div>"
      ],
      "text/plain": [
       "                 Estado  Taxa De Desemprego Taxa Crescimento   Ano\n",
       "estado1  Santa Catarina                 1.5              NaN  2004\n",
       "estado2  Rio De Janeiro                 1.7              NaN  2005\n",
       "estado3        Toantins                 1.6              NaN  2006\n",
       "estado4           Bahia                 2.4              NaN  2007\n",
       "estado5    Minas Gerais                 2.7              NaN  2008"
      ]
     },
     "execution_count": 11,
     "metadata": {},
     "output_type": "execute_result"
    }
   ],
   "source": [
    "df2"
   ]
  },
  {
   "cell_type": "code",
   "execution_count": 12,
   "id": "abe2f3f2",
   "metadata": {},
   "outputs": [
    {
     "data": {
      "text/plain": [
       "Index(['Estado', 'Taxa De Desemprego', 'Taxa Crescimento', 'Ano'], dtype='object')"
      ]
     },
     "execution_count": 12,
     "metadata": {},
     "output_type": "execute_result"
    }
   ],
   "source": [
    "df2.columns"
   ]
  },
  {
   "cell_type": "code",
   "execution_count": 13,
   "id": "19bee5f7",
   "metadata": {},
   "outputs": [
    {
     "data": {
      "text/plain": [
       "array([['Santa Catarina', 1.5, nan, 2004],\n",
       "       ['Rio De Janeiro', 1.7, nan, 2005],\n",
       "       ['Toantins', 1.6, nan, 2006],\n",
       "       ['Bahia', 2.4, nan, 2007],\n",
       "       ['Minas Gerais', 2.7, nan, 2008]], dtype=object)"
      ]
     },
     "execution_count": 13,
     "metadata": {},
     "output_type": "execute_result"
    }
   ],
   "source": [
    "df2.values"
   ]
  },
  {
   "cell_type": "code",
   "execution_count": 14,
   "id": "defc3d95",
   "metadata": {},
   "outputs": [
    {
     "data": {
      "text/plain": [
       "estado1    Santa Catarina\n",
       "estado2    Rio De Janeiro\n",
       "estado3          Toantins\n",
       "estado4             Bahia\n",
       "estado5      Minas Gerais\n",
       "Name: Estado, dtype: object"
      ]
     },
     "execution_count": 14,
     "metadata": {},
     "output_type": "execute_result"
    }
   ],
   "source": [
    "df2['Estado']"
   ]
  },
  {
   "cell_type": "code",
   "execution_count": 15,
   "id": "ec8176b5",
   "metadata": {},
   "outputs": [
    {
     "data": {
      "text/html": [
       "<div>\n",
       "<style scoped>\n",
       "    .dataframe tbody tr th:only-of-type {\n",
       "        vertical-align: middle;\n",
       "    }\n",
       "\n",
       "    .dataframe tbody tr th {\n",
       "        vertical-align: top;\n",
       "    }\n",
       "\n",
       "    .dataframe thead th {\n",
       "        text-align: right;\n",
       "    }\n",
       "</style>\n",
       "<table border=\"1\" class=\"dataframe\">\n",
       "  <thead>\n",
       "    <tr style=\"text-align: right;\">\n",
       "      <th></th>\n",
       "      <th>Estado</th>\n",
       "      <th>Taxa De Desemprego</th>\n",
       "      <th>Taxa Crescimento</th>\n",
       "      <th>Ano</th>\n",
       "    </tr>\n",
       "  </thead>\n",
       "  <tbody>\n",
       "    <tr>\n",
       "      <th>estado3</th>\n",
       "      <td>Toantins</td>\n",
       "      <td>1.6</td>\n",
       "      <td>NaN</td>\n",
       "      <td>2006</td>\n",
       "    </tr>\n",
       "  </tbody>\n",
       "</table>\n",
       "</div>"
      ],
      "text/plain": [
       "           Estado  Taxa De Desemprego Taxa Crescimento   Ano\n",
       "estado3  Toantins                 1.6              NaN  2006"
      ]
     },
     "execution_count": 15,
     "metadata": {},
     "output_type": "execute_result"
    }
   ],
   "source": [
    "#Filtrando pelo indice retornando para eixo 0.\n",
    "df2.filter(items = ['estado3'], axis = 0)"
   ]
  },
  {
   "cell_type": "markdown",
   "id": "6f1bac08",
   "metadata": {},
   "source": [
    "# Numpy e Pandas"
   ]
  },
  {
   "cell_type": "code",
   "execution_count": 16,
   "id": "9498caa9",
   "metadata": {},
   "outputs": [
    {
     "data": {
      "text/html": [
       "<div>\n",
       "<style scoped>\n",
       "    .dataframe tbody tr th:only-of-type {\n",
       "        vertical-align: middle;\n",
       "    }\n",
       "\n",
       "    .dataframe tbody tr th {\n",
       "        vertical-align: top;\n",
       "    }\n",
       "\n",
       "    .dataframe thead th {\n",
       "        text-align: right;\n",
       "    }\n",
       "</style>\n",
       "<table border=\"1\" class=\"dataframe\">\n",
       "  <thead>\n",
       "    <tr style=\"text-align: right;\">\n",
       "      <th></th>\n",
       "      <th>Estado</th>\n",
       "      <th>Taxa De Desemprego</th>\n",
       "      <th>Taxa Crescimento</th>\n",
       "      <th>Ano</th>\n",
       "    </tr>\n",
       "  </thead>\n",
       "  <tbody>\n",
       "    <tr>\n",
       "      <th>estado1</th>\n",
       "      <td>Santa Catarina</td>\n",
       "      <td>1.5</td>\n",
       "      <td>NaN</td>\n",
       "      <td>2004</td>\n",
       "    </tr>\n",
       "    <tr>\n",
       "      <th>estado2</th>\n",
       "      <td>Rio De Janeiro</td>\n",
       "      <td>1.7</td>\n",
       "      <td>NaN</td>\n",
       "      <td>2005</td>\n",
       "    </tr>\n",
       "    <tr>\n",
       "      <th>estado3</th>\n",
       "      <td>Toantins</td>\n",
       "      <td>1.6</td>\n",
       "      <td>NaN</td>\n",
       "      <td>2006</td>\n",
       "    </tr>\n",
       "    <tr>\n",
       "      <th>estado4</th>\n",
       "      <td>Bahia</td>\n",
       "      <td>2.4</td>\n",
       "      <td>NaN</td>\n",
       "      <td>2007</td>\n",
       "    </tr>\n",
       "    <tr>\n",
       "      <th>estado5</th>\n",
       "      <td>Minas Gerais</td>\n",
       "      <td>2.7</td>\n",
       "      <td>NaN</td>\n",
       "      <td>2008</td>\n",
       "    </tr>\n",
       "  </tbody>\n",
       "</table>\n",
       "</div>"
      ],
      "text/plain": [
       "                 Estado  Taxa De Desemprego Taxa Crescimento   Ano\n",
       "estado1  Santa Catarina                 1.5              NaN  2004\n",
       "estado2  Rio De Janeiro                 1.7              NaN  2005\n",
       "estado3        Toantins                 1.6              NaN  2006\n",
       "estado4           Bahia                 2.4              NaN  2007\n",
       "estado5    Minas Gerais                 2.7              NaN  2008"
      ]
     },
     "execution_count": 16,
     "metadata": {},
     "output_type": "execute_result"
    }
   ],
   "source": [
    "df2.head()"
   ]
  },
  {
   "cell_type": "code",
   "execution_count": 17,
   "id": "051bd3fa",
   "metadata": {},
   "outputs": [
    {
     "data": {
      "text/html": [
       "<div>\n",
       "<style scoped>\n",
       "    .dataframe tbody tr th:only-of-type {\n",
       "        vertical-align: middle;\n",
       "    }\n",
       "\n",
       "    .dataframe tbody tr th {\n",
       "        vertical-align: top;\n",
       "    }\n",
       "\n",
       "    .dataframe thead th {\n",
       "        text-align: right;\n",
       "    }\n",
       "</style>\n",
       "<table border=\"1\" class=\"dataframe\">\n",
       "  <thead>\n",
       "    <tr style=\"text-align: right;\">\n",
       "      <th></th>\n",
       "      <th>Taxa De Desemprego</th>\n",
       "      <th>Ano</th>\n",
       "    </tr>\n",
       "  </thead>\n",
       "  <tbody>\n",
       "    <tr>\n",
       "      <th>count</th>\n",
       "      <td>5.000000</td>\n",
       "      <td>5.000000</td>\n",
       "    </tr>\n",
       "    <tr>\n",
       "      <th>mean</th>\n",
       "      <td>1.980000</td>\n",
       "      <td>2006.000000</td>\n",
       "    </tr>\n",
       "    <tr>\n",
       "      <th>std</th>\n",
       "      <td>0.535724</td>\n",
       "      <td>1.581139</td>\n",
       "    </tr>\n",
       "    <tr>\n",
       "      <th>min</th>\n",
       "      <td>1.500000</td>\n",
       "      <td>2004.000000</td>\n",
       "    </tr>\n",
       "    <tr>\n",
       "      <th>25%</th>\n",
       "      <td>1.600000</td>\n",
       "      <td>2005.000000</td>\n",
       "    </tr>\n",
       "    <tr>\n",
       "      <th>50%</th>\n",
       "      <td>1.700000</td>\n",
       "      <td>2006.000000</td>\n",
       "    </tr>\n",
       "    <tr>\n",
       "      <th>75%</th>\n",
       "      <td>2.400000</td>\n",
       "      <td>2007.000000</td>\n",
       "    </tr>\n",
       "    <tr>\n",
       "      <th>max</th>\n",
       "      <td>2.700000</td>\n",
       "      <td>2008.000000</td>\n",
       "    </tr>\n",
       "  </tbody>\n",
       "</table>\n",
       "</div>"
      ],
      "text/plain": [
       "       Taxa De Desemprego          Ano\n",
       "count            5.000000     5.000000\n",
       "mean             1.980000  2006.000000\n",
       "std              0.535724     1.581139\n",
       "min              1.500000  2004.000000\n",
       "25%              1.600000  2005.000000\n",
       "50%              1.700000  2006.000000\n",
       "75%              2.400000  2007.000000\n",
       "max              2.700000  2008.000000"
      ]
     },
     "execution_count": 17,
     "metadata": {},
     "output_type": "execute_result"
    }
   ],
   "source": [
    "#Metodo Describe faz resumo estatístico\n",
    "df2.describe()"
   ]
  },
  {
   "cell_type": "markdown",
   "id": "169d924f",
   "metadata": {},
   "source": [
    "# Preenchendo Valores ausentes"
   ]
  },
  {
   "cell_type": "code",
   "execution_count": 18,
   "id": "93158608",
   "metadata": {},
   "outputs": [],
   "source": [
    "#Carregando arquivo csv\n",
    "dsa_df = pd.read_csv(\"dataset.csv\")"
   ]
  },
  {
   "cell_type": "code",
   "execution_count": 19,
   "id": "2823690c",
   "metadata": {},
   "outputs": [
    {
     "data": {
      "text/html": [
       "<div>\n",
       "<style scoped>\n",
       "    .dataframe tbody tr th:only-of-type {\n",
       "        vertical-align: middle;\n",
       "    }\n",
       "\n",
       "    .dataframe tbody tr th {\n",
       "        vertical-align: top;\n",
       "    }\n",
       "\n",
       "    .dataframe thead th {\n",
       "        text-align: right;\n",
       "    }\n",
       "</style>\n",
       "<table border=\"1\" class=\"dataframe\">\n",
       "  <thead>\n",
       "    <tr style=\"text-align: right;\">\n",
       "      <th></th>\n",
       "      <th>ID_Pedido</th>\n",
       "      <th>Data_Pedido</th>\n",
       "      <th>ID_Cliente</th>\n",
       "      <th>Segmento</th>\n",
       "      <th>Pais</th>\n",
       "      <th>Regiao</th>\n",
       "      <th>ID_Produto</th>\n",
       "      <th>Categoria</th>\n",
       "      <th>Nome_Produto</th>\n",
       "      <th>Valor_Venda</th>\n",
       "      <th>Quantidade</th>\n",
       "    </tr>\n",
       "  </thead>\n",
       "  <tbody>\n",
       "    <tr>\n",
       "      <th>0</th>\n",
       "      <td>CA-2016-152156</td>\n",
       "      <td>2016-11-08</td>\n",
       "      <td>CG-12520</td>\n",
       "      <td>Consumer</td>\n",
       "      <td>United States</td>\n",
       "      <td>South</td>\n",
       "      <td>FUR-BO-10001798</td>\n",
       "      <td>Furniture</td>\n",
       "      <td>Bush Somerset Collection Bookcase</td>\n",
       "      <td>261.9600</td>\n",
       "      <td>NaN</td>\n",
       "    </tr>\n",
       "    <tr>\n",
       "      <th>1</th>\n",
       "      <td>CA-2016-152156</td>\n",
       "      <td>2016-11-08</td>\n",
       "      <td>CG-12520</td>\n",
       "      <td>Consumer</td>\n",
       "      <td>United States</td>\n",
       "      <td>South</td>\n",
       "      <td>FUR-CH-10000454</td>\n",
       "      <td>Furniture</td>\n",
       "      <td>Hon Deluxe Fabric Upholstered Stacking Chairs,...</td>\n",
       "      <td>731.9400</td>\n",
       "      <td>NaN</td>\n",
       "    </tr>\n",
       "    <tr>\n",
       "      <th>2</th>\n",
       "      <td>CA-2016-138688</td>\n",
       "      <td>2016-06-12</td>\n",
       "      <td>DV-13045</td>\n",
       "      <td>Corporate</td>\n",
       "      <td>United States</td>\n",
       "      <td>West</td>\n",
       "      <td>OFF-LA-10000240</td>\n",
       "      <td>Office Supplies</td>\n",
       "      <td>Self-Adhesive Address Labels for Typewriters b...</td>\n",
       "      <td>14.6200</td>\n",
       "      <td>2.0</td>\n",
       "    </tr>\n",
       "    <tr>\n",
       "      <th>3</th>\n",
       "      <td>US-2015-108966</td>\n",
       "      <td>2015-10-11</td>\n",
       "      <td>SO-20335</td>\n",
       "      <td>Consumer</td>\n",
       "      <td>United States</td>\n",
       "      <td>South</td>\n",
       "      <td>FUR-TA-10000577</td>\n",
       "      <td>Furniture</td>\n",
       "      <td>Bretford CR4500 Series Slim Rectangular Table</td>\n",
       "      <td>957.5775</td>\n",
       "      <td>5.0</td>\n",
       "    </tr>\n",
       "    <tr>\n",
       "      <th>4</th>\n",
       "      <td>US-2015-108966</td>\n",
       "      <td>2015-10-11</td>\n",
       "      <td>SO-20335</td>\n",
       "      <td>Consumer</td>\n",
       "      <td>United States</td>\n",
       "      <td>South</td>\n",
       "      <td>OFF-ST-10000760</td>\n",
       "      <td>Office Supplies</td>\n",
       "      <td>Eldon Fold 'N Roll Cart System</td>\n",
       "      <td>22.3680</td>\n",
       "      <td>2.0</td>\n",
       "    </tr>\n",
       "  </tbody>\n",
       "</table>\n",
       "</div>"
      ],
      "text/plain": [
       "        ID_Pedido Data_Pedido ID_Cliente   Segmento           Pais Regiao  \\\n",
       "0  CA-2016-152156  2016-11-08   CG-12520   Consumer  United States  South   \n",
       "1  CA-2016-152156  2016-11-08   CG-12520   Consumer  United States  South   \n",
       "2  CA-2016-138688  2016-06-12   DV-13045  Corporate  United States   West   \n",
       "3  US-2015-108966  2015-10-11   SO-20335   Consumer  United States  South   \n",
       "4  US-2015-108966  2015-10-11   SO-20335   Consumer  United States  South   \n",
       "\n",
       "        ID_Produto        Categoria  \\\n",
       "0  FUR-BO-10001798        Furniture   \n",
       "1  FUR-CH-10000454        Furniture   \n",
       "2  OFF-LA-10000240  Office Supplies   \n",
       "3  FUR-TA-10000577        Furniture   \n",
       "4  OFF-ST-10000760  Office Supplies   \n",
       "\n",
       "                                        Nome_Produto  Valor_Venda  Quantidade  \n",
       "0                  Bush Somerset Collection Bookcase     261.9600         NaN  \n",
       "1  Hon Deluxe Fabric Upholstered Stacking Chairs,...     731.9400         NaN  \n",
       "2  Self-Adhesive Address Labels for Typewriters b...      14.6200         2.0  \n",
       "3      Bretford CR4500 Series Slim Rectangular Table     957.5775         5.0  \n",
       "4                     Eldon Fold 'N Roll Cart System      22.3680         2.0  "
      ]
     },
     "execution_count": 19,
     "metadata": {},
     "output_type": "execute_result"
    }
   ],
   "source": [
    "#por padrão carrega os 5 primeiros, caso queira uma quantidade coloque dentro do parenteses\n",
    "dsa_df.head()"
   ]
  },
  {
   "cell_type": "code",
   "execution_count": 20,
   "id": "af9fb902",
   "metadata": {},
   "outputs": [
    {
     "data": {
      "text/plain": [
       "ID_Pedido       0\n",
       "Data_Pedido     0\n",
       "ID_Cliente      0\n",
       "Segmento        0\n",
       "Pais            0\n",
       "Regiao          0\n",
       "ID_Produto      0\n",
       "Categoria       0\n",
       "Nome_Produto    0\n",
       "Valor_Venda     0\n",
       "Quantidade      2\n",
       "dtype: int64"
      ]
     },
     "execution_count": 20,
     "metadata": {},
     "output_type": "execute_result"
    }
   ],
   "source": [
    "#is na? verifica valores NaN\n",
    "dsa_df.isna().sum()"
   ]
  },
  {
   "cell_type": "code",
   "execution_count": 21,
   "id": "f4fc44b0",
   "metadata": {},
   "outputs": [
    {
     "name": "stdout",
     "output_type": "stream",
     "text": [
      "3.0\n"
     ]
    }
   ],
   "source": [
    "# Extraímos a moda da coluna Quantity \n",
    "moda = dsa_df['Quantidade'].value_counts () .index[0]\n",
    "print(moda)"
   ]
  },
  {
   "cell_type": "code",
   "execution_count": 22,
   "id": "4a7b8bbe",
   "metadata": {},
   "outputs": [],
   "source": [
    "#fill nan : preencher valores ausentes\n",
    "dsa_df['Quantidade'].fillna(value = moda, inplace = True)"
   ]
  },
  {
   "cell_type": "code",
   "execution_count": 23,
   "id": "4abdf1f2",
   "metadata": {},
   "outputs": [
    {
     "data": {
      "text/plain": [
       "ID_Pedido       0\n",
       "Data_Pedido     0\n",
       "ID_Cliente      0\n",
       "Segmento        0\n",
       "Pais            0\n",
       "Regiao          0\n",
       "ID_Produto      0\n",
       "Categoria       0\n",
       "Nome_Produto    0\n",
       "Valor_Venda     0\n",
       "Quantidade      0\n",
       "dtype: int64"
      ]
     },
     "execution_count": 23,
     "metadata": {},
     "output_type": "execute_result"
    }
   ],
   "source": [
    "dsa_df.isna().sum()"
   ]
  },
  {
   "cell_type": "markdown",
   "id": "37aab079",
   "metadata": {},
   "source": [
    "# Query (Consulta) De Dados no DataFrame do Pandas\n"
   ]
  },
  {
   "cell_type": "code",
   "execution_count": 24,
   "id": "f4b031e0",
   "metadata": {},
   "outputs": [
    {
     "data": {
      "text/plain": [
       "count     9994.000000\n",
       "mean       229.858001\n",
       "std        623.245101\n",
       "min          0.444000\n",
       "25%         17.280000\n",
       "50%         54.490000\n",
       "75%        209.940000\n",
       "max      22638.480000\n",
       "Name: Valor_Venda, dtype: float64"
      ]
     },
     "execution_count": 24,
     "metadata": {},
     "output_type": "execute_result"
    }
   ],
   "source": [
    "# Checamos os valores mínimo e máximo da coluna Valor_ Venda \n",
    "dsa_df.Valor_Venda.describe()"
   ]
  },
  {
   "cell_type": "code",
   "execution_count": 25,
   "id": "85a7d981",
   "metadata": {},
   "outputs": [],
   "source": [
    "# Gerando um novo dataframe apenas com o intervalo de vendas entre 229 e 10000\n",
    "df2 = dsa_df.query('229 < Valor_Venda < 10000')"
   ]
  },
  {
   "cell_type": "code",
   "execution_count": 26,
   "id": "76420de5",
   "metadata": {},
   "outputs": [
    {
     "data": {
      "text/plain": [
       "<bound method NDFrame.describe of 0        261.9600\n",
       "1        731.9400\n",
       "3        957.5775\n",
       "7        907.1520\n",
       "10      1706.1840\n",
       "          ...    \n",
       "9973     271.9600\n",
       "9976     249.5840\n",
       "9979     437.4720\n",
       "9991     258.5760\n",
       "9993     243.1600\n",
       "Name: Valor_Venda, Length: 2357, dtype: float64>"
      ]
     },
     "execution_count": 26,
     "metadata": {},
     "output_type": "execute_result"
    }
   ],
   "source": [
    "df2.Valor_Venda.describe"
   ]
  },
  {
   "cell_type": "code",
   "execution_count": 27,
   "id": "b0da0c41",
   "metadata": {},
   "outputs": [],
   "source": [
    "# Gerando um novo dataframe apenas com os valores de venda acima da\n",
    "df3 = df2.query('Valor_Venda > 766')"
   ]
  },
  {
   "cell_type": "code",
   "execution_count": 28,
   "id": "5ed6933b",
   "metadata": {},
   "outputs": [
    {
     "data": {
      "text/html": [
       "<div>\n",
       "<style scoped>\n",
       "    .dataframe tbody tr th:only-of-type {\n",
       "        vertical-align: middle;\n",
       "    }\n",
       "\n",
       "    .dataframe tbody tr th {\n",
       "        vertical-align: top;\n",
       "    }\n",
       "\n",
       "    .dataframe thead th {\n",
       "        text-align: right;\n",
       "    }\n",
       "</style>\n",
       "<table border=\"1\" class=\"dataframe\">\n",
       "  <thead>\n",
       "    <tr style=\"text-align: right;\">\n",
       "      <th></th>\n",
       "      <th>ID_Pedido</th>\n",
       "      <th>Data_Pedido</th>\n",
       "      <th>ID_Cliente</th>\n",
       "      <th>Segmento</th>\n",
       "      <th>Pais</th>\n",
       "      <th>Regiao</th>\n",
       "      <th>ID_Produto</th>\n",
       "      <th>Categoria</th>\n",
       "      <th>Nome_Produto</th>\n",
       "      <th>Valor_Venda</th>\n",
       "      <th>Quantidade</th>\n",
       "    </tr>\n",
       "  </thead>\n",
       "  <tbody>\n",
       "    <tr>\n",
       "      <th>3</th>\n",
       "      <td>US-2015-108966</td>\n",
       "      <td>2015-10-11</td>\n",
       "      <td>SO-20335</td>\n",
       "      <td>Consumer</td>\n",
       "      <td>United States</td>\n",
       "      <td>South</td>\n",
       "      <td>FUR-TA-10000577</td>\n",
       "      <td>Furniture</td>\n",
       "      <td>Bretford CR4500 Series Slim Rectangular Table</td>\n",
       "      <td>957.5775</td>\n",
       "      <td>5.0</td>\n",
       "    </tr>\n",
       "    <tr>\n",
       "      <th>7</th>\n",
       "      <td>CA-2014-115812</td>\n",
       "      <td>2014-06-09</td>\n",
       "      <td>BH-11710</td>\n",
       "      <td>Consumer</td>\n",
       "      <td>United States</td>\n",
       "      <td>West</td>\n",
       "      <td>TEC-PH-10002275</td>\n",
       "      <td>Technology</td>\n",
       "      <td>Mitel 5320 IP Phone VoIP phone</td>\n",
       "      <td>907.1520</td>\n",
       "      <td>6.0</td>\n",
       "    </tr>\n",
       "    <tr>\n",
       "      <th>10</th>\n",
       "      <td>CA-2014-115812</td>\n",
       "      <td>2014-06-09</td>\n",
       "      <td>BH-11710</td>\n",
       "      <td>Consumer</td>\n",
       "      <td>United States</td>\n",
       "      <td>West</td>\n",
       "      <td>FUR-TA-10001539</td>\n",
       "      <td>Furniture</td>\n",
       "      <td>Chromcraft Rectangular Conference Tables</td>\n",
       "      <td>1706.1840</td>\n",
       "      <td>9.0</td>\n",
       "    </tr>\n",
       "    <tr>\n",
       "      <th>11</th>\n",
       "      <td>CA-2014-115812</td>\n",
       "      <td>2014-06-09</td>\n",
       "      <td>BH-11710</td>\n",
       "      <td>Consumer</td>\n",
       "      <td>United States</td>\n",
       "      <td>West</td>\n",
       "      <td>TEC-PH-10002033</td>\n",
       "      <td>Technology</td>\n",
       "      <td>Konftel 250 Conference phone - Charcoal black</td>\n",
       "      <td>911.4240</td>\n",
       "      <td>4.0</td>\n",
       "    </tr>\n",
       "    <tr>\n",
       "      <th>24</th>\n",
       "      <td>CA-2015-106320</td>\n",
       "      <td>2015-09-25</td>\n",
       "      <td>EB-13870</td>\n",
       "      <td>Consumer</td>\n",
       "      <td>United States</td>\n",
       "      <td>West</td>\n",
       "      <td>FUR-TA-10000577</td>\n",
       "      <td>Furniture</td>\n",
       "      <td>Bretford CR4500 Series Slim Rectangular Table</td>\n",
       "      <td>1044.6300</td>\n",
       "      <td>3.0</td>\n",
       "    </tr>\n",
       "  </tbody>\n",
       "</table>\n",
       "</div>"
      ],
      "text/plain": [
       "         ID_Pedido Data_Pedido ID_Cliente  Segmento           Pais Regiao  \\\n",
       "3   US-2015-108966  2015-10-11   SO-20335  Consumer  United States  South   \n",
       "7   CA-2014-115812  2014-06-09   BH-11710  Consumer  United States   West   \n",
       "10  CA-2014-115812  2014-06-09   BH-11710  Consumer  United States   West   \n",
       "11  CA-2014-115812  2014-06-09   BH-11710  Consumer  United States   West   \n",
       "24  CA-2015-106320  2015-09-25   EB-13870  Consumer  United States   West   \n",
       "\n",
       "         ID_Produto   Categoria  \\\n",
       "3   FUR-TA-10000577   Furniture   \n",
       "7   TEC-PH-10002275  Technology   \n",
       "10  FUR-TA-10001539   Furniture   \n",
       "11  TEC-PH-10002033  Technology   \n",
       "24  FUR-TA-10000577   Furniture   \n",
       "\n",
       "                                     Nome_Produto  Valor_Venda  Quantidade  \n",
       "3   Bretford CR4500 Series Slim Rectangular Table     957.5775         5.0  \n",
       "7                  Mitel 5320 IP Phone VoIP phone     907.1520         6.0  \n",
       "10       Chromcraft Rectangular Conference Tables    1706.1840         9.0  \n",
       "11  Konftel 250 Conference phone - Charcoal black     911.4240         4.0  \n",
       "24  Bretford CR4500 Series Slim Rectangular Table    1044.6300         3.0  "
      ]
     },
     "execution_count": 28,
     "metadata": {},
     "output_type": "execute_result"
    }
   ],
   "source": [
    "df3.head()"
   ]
  },
  {
   "cell_type": "markdown",
   "id": "76c8c8df",
   "metadata": {},
   "source": [
    "# Operadores Lógicos Para Manipulação De Dados"
   ]
  },
  {
   "cell_type": "code",
   "execution_count": 33,
   "id": "dd6db670",
   "metadata": {},
   "outputs": [
    {
     "data": {
      "text/html": [
       "<div>\n",
       "<style scoped>\n",
       "    .dataframe tbody tr th:only-of-type {\n",
       "        vertical-align: middle;\n",
       "    }\n",
       "\n",
       "    .dataframe tbody tr th {\n",
       "        vertical-align: top;\n",
       "    }\n",
       "\n",
       "    .dataframe thead th {\n",
       "        text-align: right;\n",
       "    }\n",
       "</style>\n",
       "<table border=\"1\" class=\"dataframe\">\n",
       "  <thead>\n",
       "    <tr style=\"text-align: right;\">\n",
       "      <th></th>\n",
       "      <th>ID_Pedido</th>\n",
       "      <th>Data_Pedido</th>\n",
       "      <th>ID_Cliente</th>\n",
       "      <th>Segmento</th>\n",
       "      <th>Pais</th>\n",
       "      <th>Regiao</th>\n",
       "      <th>ID_Produto</th>\n",
       "      <th>Categoria</th>\n",
       "      <th>Nome_Produto</th>\n",
       "      <th>Valor_Venda</th>\n",
       "      <th>Quantidade</th>\n",
       "    </tr>\n",
       "  </thead>\n",
       "  <tbody>\n",
       "    <tr>\n",
       "      <th>182</th>\n",
       "      <td>CA-2014-158274</td>\n",
       "      <td>2014-11-19</td>\n",
       "      <td>RM-19675</td>\n",
       "      <td>Home Office</td>\n",
       "      <td>United States</td>\n",
       "      <td>South</td>\n",
       "      <td>TEC-PH-10003273</td>\n",
       "      <td>Technology</td>\n",
       "      <td>AT&amp;T TR1909W</td>\n",
       "      <td>503.9600</td>\n",
       "      <td>4.0</td>\n",
       "    </tr>\n",
       "    <tr>\n",
       "      <th>183</th>\n",
       "      <td>CA-2014-158274</td>\n",
       "      <td>2014-11-19</td>\n",
       "      <td>RM-19675</td>\n",
       "      <td>Home Office</td>\n",
       "      <td>United States</td>\n",
       "      <td>South</td>\n",
       "      <td>TEC-PH-10004896</td>\n",
       "      <td>Technology</td>\n",
       "      <td>Nokia Lumia 521 (T-Mobile)</td>\n",
       "      <td>149.9500</td>\n",
       "      <td>5.0</td>\n",
       "    </tr>\n",
       "    <tr>\n",
       "      <th>184</th>\n",
       "      <td>CA-2014-158274</td>\n",
       "      <td>2014-11-19</td>\n",
       "      <td>RM-19675</td>\n",
       "      <td>Home Office</td>\n",
       "      <td>United States</td>\n",
       "      <td>South</td>\n",
       "      <td>TEC-AC-10002345</td>\n",
       "      <td>Technology</td>\n",
       "      <td>HP Standard 104 key PS/2 Keyboard</td>\n",
       "      <td>29.0000</td>\n",
       "      <td>2.0</td>\n",
       "    </tr>\n",
       "    <tr>\n",
       "      <th>231</th>\n",
       "      <td>US-2017-100930</td>\n",
       "      <td>2017-04-07</td>\n",
       "      <td>CS-12400</td>\n",
       "      <td>Home Office</td>\n",
       "      <td>United States</td>\n",
       "      <td>South</td>\n",
       "      <td>FUR-TA-10001705</td>\n",
       "      <td>Furniture</td>\n",
       "      <td>Bush Advantage Collection Round Conference Table</td>\n",
       "      <td>233.8600</td>\n",
       "      <td>2.0</td>\n",
       "    </tr>\n",
       "    <tr>\n",
       "      <th>232</th>\n",
       "      <td>US-2017-100930</td>\n",
       "      <td>2017-04-07</td>\n",
       "      <td>CS-12400</td>\n",
       "      <td>Home Office</td>\n",
       "      <td>United States</td>\n",
       "      <td>South</td>\n",
       "      <td>FUR-TA-10003473</td>\n",
       "      <td>Furniture</td>\n",
       "      <td>Bretford Rectangular Conference Table Tops</td>\n",
       "      <td>620.6145</td>\n",
       "      <td>3.0</td>\n",
       "    </tr>\n",
       "  </tbody>\n",
       "</table>\n",
       "</div>"
      ],
      "text/plain": [
       "          ID_Pedido Data_Pedido ID_Cliente     Segmento           Pais Regiao  \\\n",
       "182  CA-2014-158274  2014-11-19   RM-19675  Home Office  United States  South   \n",
       "183  CA-2014-158274  2014-11-19   RM-19675  Home Office  United States  South   \n",
       "184  CA-2014-158274  2014-11-19   RM-19675  Home Office  United States  South   \n",
       "231  US-2017-100930  2017-04-07   CS-12400  Home Office  United States  South   \n",
       "232  US-2017-100930  2017-04-07   CS-12400  Home Office  United States  South   \n",
       "\n",
       "          ID_Produto   Categoria  \\\n",
       "182  TEC-PH-10003273  Technology   \n",
       "183  TEC-PH-10004896  Technology   \n",
       "184  TEC-AC-10002345  Technology   \n",
       "231  FUR-TA-10001705   Furniture   \n",
       "232  FUR-TA-10003473   Furniture   \n",
       "\n",
       "                                         Nome_Produto  Valor_Venda  Quantidade  \n",
       "182                                      AT&T TR1909W     503.9600         4.0  \n",
       "183                        Nokia Lumia 521 (T-Mobile)     149.9500         5.0  \n",
       "184                 HP Standard 104 key PS/2 Keyboard      29.0000         2.0  \n",
       "231  Bush Advantage Collection Round Conference Table     233.8600         2.0  \n",
       "232        Bretford Rectangular Conference Table Tops     620.6145         3.0  "
      ]
     },
     "execution_count": 33,
     "metadata": {},
     "output_type": "execute_result"
    }
   ],
   "source": [
    "# Filtrando as vendas que ocorreram para o segmento de Home Office e na região South\n",
    "#Porta Lógica & (AND)\n",
    "dsa_df[ (dsa_df.Segmento == 'Home Office') & (dsa_df.Regiao == 'South')].head()"
   ]
  },
  {
   "cell_type": "code",
   "execution_count": 34,
   "id": "6b0c342c",
   "metadata": {},
   "outputs": [
    {
     "data": {
      "text/html": [
       "<div>\n",
       "<style scoped>\n",
       "    .dataframe tbody tr th:only-of-type {\n",
       "        vertical-align: middle;\n",
       "    }\n",
       "\n",
       "    .dataframe tbody tr th {\n",
       "        vertical-align: top;\n",
       "    }\n",
       "\n",
       "    .dataframe thead th {\n",
       "        text-align: right;\n",
       "    }\n",
       "</style>\n",
       "<table border=\"1\" class=\"dataframe\">\n",
       "  <thead>\n",
       "    <tr style=\"text-align: right;\">\n",
       "      <th></th>\n",
       "      <th>ID_Pedido</th>\n",
       "      <th>Data_Pedido</th>\n",
       "      <th>ID_Cliente</th>\n",
       "      <th>Segmento</th>\n",
       "      <th>Pais</th>\n",
       "      <th>Regiao</th>\n",
       "      <th>ID_Produto</th>\n",
       "      <th>Categoria</th>\n",
       "      <th>Nome_Produto</th>\n",
       "      <th>Valor_Venda</th>\n",
       "      <th>Quantidade</th>\n",
       "    </tr>\n",
       "  </thead>\n",
       "  <tbody>\n",
       "    <tr>\n",
       "      <th>9979</th>\n",
       "      <td>US-2016-103674</td>\n",
       "      <td>2016-12-06</td>\n",
       "      <td>AP-10720</td>\n",
       "      <td>Home Office</td>\n",
       "      <td>United States</td>\n",
       "      <td>West</td>\n",
       "      <td>OFF-BI-10002026</td>\n",
       "      <td>Office Supplies</td>\n",
       "      <td>Ibico Recycled Linen-Style Covers</td>\n",
       "      <td>437.472</td>\n",
       "      <td>14.0</td>\n",
       "    </tr>\n",
       "    <tr>\n",
       "      <th>9980</th>\n",
       "      <td>US-2015-151435</td>\n",
       "      <td>2015-09-06</td>\n",
       "      <td>SW-20455</td>\n",
       "      <td>Consumer</td>\n",
       "      <td>United States</td>\n",
       "      <td>South</td>\n",
       "      <td>FUR-TA-10001029</td>\n",
       "      <td>Furniture</td>\n",
       "      <td>KI Adjustable-Height Table</td>\n",
       "      <td>85.980</td>\n",
       "      <td>1.0</td>\n",
       "    </tr>\n",
       "    <tr>\n",
       "      <th>9987</th>\n",
       "      <td>CA-2017-163629</td>\n",
       "      <td>2017-11-17</td>\n",
       "      <td>RA-19885</td>\n",
       "      <td>Corporate</td>\n",
       "      <td>United States</td>\n",
       "      <td>South</td>\n",
       "      <td>TEC-AC-10001539</td>\n",
       "      <td>Technology</td>\n",
       "      <td>Logitech G430 Surround Sound Gaming Headset wi...</td>\n",
       "      <td>79.990</td>\n",
       "      <td>1.0</td>\n",
       "    </tr>\n",
       "    <tr>\n",
       "      <th>9988</th>\n",
       "      <td>CA-2017-163629</td>\n",
       "      <td>2017-11-17</td>\n",
       "      <td>RA-19885</td>\n",
       "      <td>Corporate</td>\n",
       "      <td>United States</td>\n",
       "      <td>South</td>\n",
       "      <td>TEC-PH-10004006</td>\n",
       "      <td>Technology</td>\n",
       "      <td>Panasonic KX - TS880B Telephone</td>\n",
       "      <td>206.100</td>\n",
       "      <td>5.0</td>\n",
       "    </tr>\n",
       "    <tr>\n",
       "      <th>9989</th>\n",
       "      <td>CA-2014-110422</td>\n",
       "      <td>2014-01-21</td>\n",
       "      <td>TB-21400</td>\n",
       "      <td>Consumer</td>\n",
       "      <td>United States</td>\n",
       "      <td>South</td>\n",
       "      <td>FUR-FU-10001889</td>\n",
       "      <td>Furniture</td>\n",
       "      <td>Ultra Door Pull Handle</td>\n",
       "      <td>25.248</td>\n",
       "      <td>3.0</td>\n",
       "    </tr>\n",
       "  </tbody>\n",
       "</table>\n",
       "</div>"
      ],
      "text/plain": [
       "           ID_Pedido Data_Pedido ID_Cliente     Segmento           Pais  \\\n",
       "9979  US-2016-103674  2016-12-06   AP-10720  Home Office  United States   \n",
       "9980  US-2015-151435  2015-09-06   SW-20455     Consumer  United States   \n",
       "9987  CA-2017-163629  2017-11-17   RA-19885    Corporate  United States   \n",
       "9988  CA-2017-163629  2017-11-17   RA-19885    Corporate  United States   \n",
       "9989  CA-2014-110422  2014-01-21   TB-21400     Consumer  United States   \n",
       "\n",
       "     Regiao       ID_Produto        Categoria  \\\n",
       "9979   West  OFF-BI-10002026  Office Supplies   \n",
       "9980  South  FUR-TA-10001029        Furniture   \n",
       "9987  South  TEC-AC-10001539       Technology   \n",
       "9988  South  TEC-PH-10004006       Technology   \n",
       "9989  South  FUR-FU-10001889        Furniture   \n",
       "\n",
       "                                           Nome_Produto  Valor_Venda  \\\n",
       "9979                  Ibico Recycled Linen-Style Covers      437.472   \n",
       "9980                         KI Adjustable-Height Table       85.980   \n",
       "9987  Logitech G430 Surround Sound Gaming Headset wi...       79.990   \n",
       "9988                    Panasonic KX - TS880B Telephone      206.100   \n",
       "9989                             Ultra Door Pull Handle       25.248   \n",
       "\n",
       "      Quantidade  \n",
       "9979        14.0  \n",
       "9980         1.0  \n",
       "9987         1.0  \n",
       "9988         5.0  \n",
       "9989         3.0  "
      ]
     },
     "execution_count": 34,
     "metadata": {},
     "output_type": "execute_result"
    }
   ],
   "source": [
    "#diferente do head que mostra o inicio do dataframe, tail mostra o final\n",
    "#Porta Lógica | (OR)\n",
    "dsa_df[ (dsa_df.Segmento == 'Home Office') | (dsa_df.Regiao == 'South')].tail()"
   ]
  },
  {
   "cell_type": "code",
   "execution_count": 35,
   "id": "aaec65b3",
   "metadata": {},
   "outputs": [
    {
     "data": {
      "text/html": [
       "<div>\n",
       "<style scoped>\n",
       "    .dataframe tbody tr th:only-of-type {\n",
       "        vertical-align: middle;\n",
       "    }\n",
       "\n",
       "    .dataframe tbody tr th {\n",
       "        vertical-align: top;\n",
       "    }\n",
       "\n",
       "    .dataframe thead th {\n",
       "        text-align: right;\n",
       "    }\n",
       "</style>\n",
       "<table border=\"1\" class=\"dataframe\">\n",
       "  <thead>\n",
       "    <tr style=\"text-align: right;\">\n",
       "      <th></th>\n",
       "      <th>ID_Pedido</th>\n",
       "      <th>Data_Pedido</th>\n",
       "      <th>ID_Cliente</th>\n",
       "      <th>Segmento</th>\n",
       "      <th>Pais</th>\n",
       "      <th>Regiao</th>\n",
       "      <th>ID_Produto</th>\n",
       "      <th>Categoria</th>\n",
       "      <th>Nome_Produto</th>\n",
       "      <th>Valor_Venda</th>\n",
       "      <th>Quantidade</th>\n",
       "    </tr>\n",
       "  </thead>\n",
       "  <tbody>\n",
       "    <tr>\n",
       "      <th>9130</th>\n",
       "      <td>CA-2016-130911</td>\n",
       "      <td>2016-03-24</td>\n",
       "      <td>DC-12850</td>\n",
       "      <td>Consumer</td>\n",
       "      <td>United States</td>\n",
       "      <td>East</td>\n",
       "      <td>OFF-AR-10000475</td>\n",
       "      <td>Office Supplies</td>\n",
       "      <td>Hunt BOSTON Vista Battery-Operated Pencil Shar...</td>\n",
       "      <td>18.656</td>\n",
       "      <td>2.0</td>\n",
       "    </tr>\n",
       "    <tr>\n",
       "      <th>8146</th>\n",
       "      <td>US-2014-112949</td>\n",
       "      <td>2014-06-20</td>\n",
       "      <td>Co-12640</td>\n",
       "      <td>Consumer</td>\n",
       "      <td>United States</td>\n",
       "      <td>Central</td>\n",
       "      <td>OFF-AR-10003469</td>\n",
       "      <td>Office Supplies</td>\n",
       "      <td>Nontoxic Chalk</td>\n",
       "      <td>3.520</td>\n",
       "      <td>2.0</td>\n",
       "    </tr>\n",
       "    <tr>\n",
       "      <th>632</th>\n",
       "      <td>US-2016-135720</td>\n",
       "      <td>2016-12-11</td>\n",
       "      <td>FM-14380</td>\n",
       "      <td>Consumer</td>\n",
       "      <td>United States</td>\n",
       "      <td>West</td>\n",
       "      <td>TEC-PH-10002103</td>\n",
       "      <td>Technology</td>\n",
       "      <td>Jabra SPEAK 410</td>\n",
       "      <td>300.768</td>\n",
       "      <td>4.0</td>\n",
       "    </tr>\n",
       "    <tr>\n",
       "      <th>2939</th>\n",
       "      <td>US-2016-169040</td>\n",
       "      <td>2016-12-06</td>\n",
       "      <td>GT-14710</td>\n",
       "      <td>Consumer</td>\n",
       "      <td>United States</td>\n",
       "      <td>West</td>\n",
       "      <td>OFF-BI-10001658</td>\n",
       "      <td>Office Supplies</td>\n",
       "      <td>GBC Standard Therm-A-Bind Covers</td>\n",
       "      <td>59.808</td>\n",
       "      <td>3.0</td>\n",
       "    </tr>\n",
       "    <tr>\n",
       "      <th>4714</th>\n",
       "      <td>CA-2017-121643</td>\n",
       "      <td>2017-05-18</td>\n",
       "      <td>AB-10105</td>\n",
       "      <td>Consumer</td>\n",
       "      <td>United States</td>\n",
       "      <td>West</td>\n",
       "      <td>TEC-PH-10002200</td>\n",
       "      <td>Technology</td>\n",
       "      <td>Aastra 6757i CT Wireless VoIP phone</td>\n",
       "      <td>344.704</td>\n",
       "      <td>2.0</td>\n",
       "    </tr>\n",
       "  </tbody>\n",
       "</table>\n",
       "</div>"
      ],
      "text/plain": [
       "           ID_Pedido Data_Pedido ID_Cliente  Segmento           Pais   Regiao  \\\n",
       "9130  CA-2016-130911  2016-03-24   DC-12850  Consumer  United States     East   \n",
       "8146  US-2014-112949  2014-06-20   Co-12640  Consumer  United States  Central   \n",
       "632   US-2016-135720  2016-12-11   FM-14380  Consumer  United States     West   \n",
       "2939  US-2016-169040  2016-12-06   GT-14710  Consumer  United States     West   \n",
       "4714  CA-2017-121643  2017-05-18   AB-10105  Consumer  United States     West   \n",
       "\n",
       "           ID_Produto        Categoria  \\\n",
       "9130  OFF-AR-10000475  Office Supplies   \n",
       "8146  OFF-AR-10003469  Office Supplies   \n",
       "632   TEC-PH-10002103       Technology   \n",
       "2939  OFF-BI-10001658  Office Supplies   \n",
       "4714  TEC-PH-10002200       Technology   \n",
       "\n",
       "                                           Nome_Produto  Valor_Venda  \\\n",
       "9130  Hunt BOSTON Vista Battery-Operated Pencil Shar...       18.656   \n",
       "8146                                     Nontoxic Chalk        3.520   \n",
       "632                                     Jabra SPEAK 410      300.768   \n",
       "2939                   GBC Standard Therm-A-Bind Covers       59.808   \n",
       "4714                Aastra 6757i CT Wireless VoIP phone      344.704   \n",
       "\n",
       "      Quantidade  \n",
       "9130         2.0  \n",
       "8146         2.0  \n",
       "632          4.0  \n",
       "2939         3.0  \n",
       "4714         2.0  "
      ]
     },
     "execution_count": 35,
     "metadata": {},
     "output_type": "execute_result"
    }
   ],
   "source": [
    "#Sample (amostra de 5 valores da tabela)\n",
    "#Porta Lógica != (NOT)\n",
    "dsa_df[ (dsa_df.Segmento != 'Home Office') & (dsa_df.Regiao != 'South')].sample(5)"
   ]
  },
  {
   "cell_type": "code",
   "execution_count": null,
   "id": "d8ccb869",
   "metadata": {},
   "outputs": [],
   "source": []
  },
  {
   "cell_type": "code",
   "execution_count": null,
   "id": "8cffc82b",
   "metadata": {},
   "outputs": [],
   "source": []
  }
 ],
 "metadata": {
  "kernelspec": {
   "display_name": "Python 3 (ipykernel)",
   "language": "python",
   "name": "python3"
  },
  "language_info": {
   "codemirror_mode": {
    "name": "ipython",
    "version": 3
   },
   "file_extension": ".py",
   "mimetype": "text/x-python",
   "name": "python",
   "nbconvert_exporter": "python",
   "pygments_lexer": "ipython3",
   "version": "3.10.9"
  }
 },
 "nbformat": 4,
 "nbformat_minor": 5
}
