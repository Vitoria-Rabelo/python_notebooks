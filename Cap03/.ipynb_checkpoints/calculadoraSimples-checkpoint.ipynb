{
 "cells": [
  {
   "cell_type": "code",
   "execution_count": 1,
   "id": "39264e2d",
   "metadata": {},
   "outputs": [
    {
     "name": "stdout",
     "output_type": "stream",
     "text": [
      "Bem-vindo a Calculadora!\n"
     ]
    }
   ],
   "source": [
    "print(\"Bem-vindo a Calculadora!\")"
   ]
  },
  {
   "cell_type": "code",
   "execution_count": 2,
   "id": "354a9c59",
   "metadata": {},
   "outputs": [
    {
     "name": "stdout",
     "output_type": "stream",
     "text": [
      "insira o número: 2\n"
     ]
    }
   ],
   "source": [
    "num1 = float(input(\"insira o número: \"))"
   ]
  },
  {
   "cell_type": "code",
   "execution_count": 3,
   "id": "ae5374bc",
   "metadata": {},
   "outputs": [
    {
     "name": "stdout",
     "output_type": "stream",
     "text": [
      "insira mais um número: 4\n"
     ]
    }
   ],
   "source": [
    "num2 = float(input(\"insira mais um número: \"))"
   ]
  },
  {
   "cell_type": "code",
   "execution_count": 4,
   "id": "4d610cc7",
   "metadata": {},
   "outputs": [
    {
     "name": "stdout",
     "output_type": "stream",
     "text": [
      "selecione a operação (+, -, *, /): +\n"
     ]
    }
   ],
   "source": [
    "operacao = input(\"selecione a operação (+, -, *, /): \")"
   ]
  },
  {
   "cell_type": "code",
   "execution_count": 14,
   "id": "05e0e3cd",
   "metadata": {
    "scrolled": true
   },
   "outputs": [
    {
     "ename": "SyntaxError",
     "evalue": "invalid syntax (3495173084.py, line 1)",
     "output_type": "error",
     "traceback": [
      "\u001b[0;36m  Input \u001b[0;32mIn [14]\u001b[0;36m\u001b[0m\n\u001b[0;31m    if operacao == \"+\"\u001b[0m\n\u001b[0m                      ^\u001b[0m\n\u001b[0;31mSyntaxError\u001b[0m\u001b[0;31m:\u001b[0m invalid syntax\n"
     ]
    }
   ],
   "source": [
    "if operacao == \"+\"\n",
    "    resultado = num1 + num2\n",
    "    print(\"o resultado é: \", resultado)\n",
    "elif operacao == \"-\"\n",
    "    print(\"o resultado é: \", resultado)\n",
    "elif operacao == \"*\"\n",
    "    print(\"o resultado é: \", resultado)\n",
    "elif operacao == \"/\"\n",
    "    print(\"o resultado é: \", resultado)\n",
    "else:\n",
    "    printf(\"operação fornecida inválida\")"
   ]
  },
  {
   "cell_type": "code",
   "execution_count": null,
   "id": "4a389e4d",
   "metadata": {},
   "outputs": [],
   "source": []
  }
 ],
 "metadata": {
  "kernelspec": {
   "display_name": "Python 3 (ipykernel)",
   "language": "python",
   "name": "python3"
  },
  "language_info": {
   "codemirror_mode": {
    "name": "ipython",
    "version": 3
   },
   "file_extension": ".py",
   "mimetype": "text/x-python",
   "name": "python",
   "nbconvert_exporter": "python",
   "pygments_lexer": "ipython3",
   "version": "3.9.13"
  }
 },
 "nbformat": 4,
 "nbformat_minor": 5
}
